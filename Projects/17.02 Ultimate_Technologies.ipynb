{
 "cells": [
  {
   "cell_type": "code",
   "execution_count": 1,
   "metadata": {},
   "outputs": [],
   "source": [
    "# %load_ext nb_black"
   ]
  },
  {
   "cell_type": "markdown",
   "metadata": {},
   "source": [
    "# Ultimate Data Challenge"
   ]
  },
  {
   "cell_type": "markdown",
   "metadata": {},
   "source": [
    "## Part 1 - Exploratory data analysis"
   ]
  },
  {
   "cell_type": "markdown",
   "metadata": {},
   "source": [
    "### Data Quality"
   ]
  },
  {
   "cell_type": "markdown",
   "metadata": {},
   "source": [
    "The only significant data quality issue relates to the start and stop times on the first and last day of the observations.  The start time was Thursday, January 1st, 1970 at 20:12:16.  No logins prior to 20:12:16 were recorded.  The end time was Monday, April 13th at 18:57:38.  No logins after 18:57:38 were recorded.  The data for these two incomplete dates was removed for this analysis."
   ]
  },
  {
   "cell_type": "markdown",
   "metadata": {},
   "source": [
    "### Patterns and features of the demand"
   ]
  },
  {
   "cell_type": "markdown",
   "metadata": {},
   "source": [
    "There are a few noticeable demand patterns:\n",
    "\n",
    " - Weekday demand is lowest on Mondays and increases throughout the week (Figure 1)\n",
    " - Weekends (including Friday night) are consistently busier than weekdays (Figure 1 & 2)\n",
    " - Weekends have a spike of activity on Friday night, Saturday morning and Sunday morning (Figure 2)\n",
    " - Weekdays have a less exaggerated spike beginning around 10am and lasting until about 2pm (Figure 2)\n",
    " - Weekdays between 6am and 9am have the lowest demand (Figure 2)\n",
    " - There was a spike of demand beginning ~March 16 and ending ~March 19.  Possibly a large event in town... (Figure 1 & 3)"
   ]
  },
  {
   "cell_type": "markdown",
   "metadata": {},
   "source": [
    "![title](images/Figure_1.png)\n",
    "***\n",
    "![title](images/Figure_2.png)\n",
    "***\n",
    "![title](images/Figure_3.png)\n",
    "\n"
   ]
  },
  {
   "cell_type": "markdown",
   "metadata": {},
   "source": [
    "## Part 2 ‑ Experiment and metrics design"
   ]
  },
  {
   "cell_type": "markdown",
   "metadata": {},
   "source": [
    "The neighboring cities of Gotham and Metropolis have complementary circadian rhythms: on\n",
    "weekdays, Ultimate Gotham is most active at night, and Ultimate Metropolis is most active\n",
    "during the day. On weekends, there is reasonable activity in both cities.\n",
    "\n",
    "However, a toll bridge, with a two way\n",
    "toll, between the two cities causes driver partners to tend\n",
    "to be exclusive to each city. The Ultimate managers of city operations for the two cities have\n",
    "proposed an experiment to encourage driver partners to be available in both cities, by\n",
    "reimbursing all toll costs."
   ]
  },
  {
   "cell_type": "markdown",
   "metadata": {},
   "source": [
    "1. What would you choose as the key measure of success of this experiment in encouraging driver partners to serve both cities, and why would you choose this metric?"
   ]
  },
  {
   "cell_type": "markdown",
   "metadata": {},
   "source": [
    "The key metric of success is a shift from per city revenue for each driver partner from their current proportion of fares (e.g. hypothetically 80% city of preference, 20% other city) towards 50% (e.g.  60% city of preference, 20% other city).  The objective of having driver partners to be available in both cities (as opposed to current state of mostly once city) would directly correlate with the percentage of revenues decreasing for the city of preference while increasing for the other city.  No matter what other easily obtainable metric you choose, if they are not generating revenue from the other city, the change will only be temporary."
   ]
  },
  {
   "cell_type": "markdown",
   "metadata": {},
   "source": [
    "2. Describe a practical experiment you would design to compare the effectiveness of the proposed change in relation to the key measure of success. Please provide details on:\n",
    "    - how you will implement the experiment\n",
    "    - what statistical test(s) you will conduct to verify the significance of the observation\n",
    "    - how you would interpret the results and provide recommendations to the city operations team along with any caveats."
   ]
  },
  {
   "cell_type": "markdown",
   "metadata": {},
   "source": [
    "I would pick a timeframe that corresponds to the city's taxing period / driver partner reporting period, probably 1 month.  Since each driver partner is required to report city revenues, on control period is preexisting which is a significant benefit.  During the no toll month, I would eliminate all toll fares for on duty driver partners. Eliminating the fares is far more financially efficient then reimbursing the fares as well as providing immediate gratification to the driver partner resulting in a faster adoption of the cities objective of having the driver partner serving both cities. It would be important that a marketing campaign be in place to ensure all driver partner were aware of the elimination of the toll for the month.  I would then compare each driver partners monthly reporting to determine if the revenue was more equally distributed between the two cities and if the overall revenue had increased. A sample t-test could be utilized to determine changes discussed.  Finally, by comparing the increase (decreased) revenue from driver partner city taxes and loss in toll revenue, it would be easy to calculate the net tangible financial impact.  The administrative costs of this program would be minimal.  The financial impact would than need to be compared to the nontangible impacts including shorter wait times, more effective movement of people, ability to lure big events to the city, reduction of cars because of people relying on driver partners..."
   ]
  },
  {
   "cell_type": "markdown",
   "metadata": {},
   "source": [
    "## Part 3 ‑ Predictive modeling"
   ]
  },
  {
   "cell_type": "markdown",
   "metadata": {},
   "source": [
    "Ultimate is interested in predicting rider retention. To help explore this question, we have\n",
    "provided a sample dataset of a cohort of users who signed up for an Ultimate account in\n",
    "January 2014. The data was pulled several months later; we consider a user retained if they\n",
    "were “active” (i.e. took a trip) in the preceding 30 days.\n",
    "\n",
    "\n",
    "We would like you to use this data set to help understand what factors are the best predictors\n",
    "for retention, and offer suggestions to operationalize those insights to help Ultimate.\n",
    "\n",
    "\n",
    "The data is in the attached file ultimate_data_challenge.json. See below for a detailed\n",
    "description of the dataset. Please include any code you wrote for the analysis and delete the\n",
    "dataset when you have finished with the challenge."
   ]
  },
  {
   "cell_type": "markdown",
   "metadata": {},
   "source": [
    "1. Perform any cleaning, exploratory analysis, and/or visualizations to use the provided\n",
    "data for this analysis (a few sentences/plots describing your approach will suffice). What\n",
    "fraction of the observed users were retained?"
   ]
  },
  {
   "cell_type": "markdown",
   "metadata": {},
   "source": [
    "Standard cleaning was performed on the data including converting dates to ordinal, filling in missing values with column averages, populating missing data in phone, calculating the retained field, and one hot encoding the phone and city fields.  100% of the data was retained because the missing data was easy to account for and not significant.\n",
    "\n",
    "All the users were signed up in January and the last trip registered was on July 1st.  For calculating retained users (trip in last 30 days), I used July 1st as the date of the analysis.\n",
    "\n",
    "37.61% of the users were retained."
   ]
  },
  {
   "cell_type": "markdown",
   "metadata": {},
   "source": [
    "I reviewed the following correlation matrix to help understand the relationships between the fields."
   ]
  },
  {
   "cell_type": "markdown",
   "metadata": {},
   "source": [
    "![title](images/sns_corr.png)"
   ]
  },
  {
   "cell_type": "markdown",
   "metadata": {},
   "source": [
    "2. Build a predictive model to help Ultimate determine whether or not a user will be active\n",
    "in their 6th month on the system. Discuss why you chose your approach, what\n",
    "alternatives you considered, and any concerns you have. How valid is your model?\n",
    "Include any key indicators of model performance."
   ]
  },
  {
   "cell_type": "markdown",
   "metadata": {},
   "source": [
    "This is a binary classification problem - active user *or* not active user.  The data was split into 72% training, 18% validation and 10% test (holdout).  I ran one iteration over 11 popular classification models to and LightGBM performed the best and, although not the fastest, ran reasonable fast.  The model performed at 78.9% accuracy (utilizing hyperopt to optimize features).  One concern is the model was more successful at predicting inactive users (negatives) than active users (positives).  Changes to metrics that optimize active users (positives) might be beneficial."
   ]
  },
  {
   "cell_type": "markdown",
   "metadata": {},
   "source": [
    "3. Briefly discuss how Ultimate might leverage the insights gained from the model to\n",
    "improve its longterm\n",
    "rider retention (again, a few sentences will suffice)."
   ]
  },
  {
   "cell_type": "markdown",
   "metadata": {},
   "source": [
    "- King's landing is very correlated with active users but the other two cities are negatively correlated.  Identifying the cause of this difference would be beneficial and potentially increase active users.\n",
    "- iPhone is very correlated with active users while Android is very negatively correlated with active users.  Are there problems with the Android app?  Does the iPhone app have features not available in the Android app?\n",
    "- Ultimate black users are positively correlated with active users.  Promotions to encourage riders to try ultimate black could be advantageous."
   ]
  },
  {
   "cell_type": "markdown",
   "metadata": {},
   "source": [
    "Housekeeping"
   ]
  },
  {
   "cell_type": "code",
   "execution_count": 2,
   "metadata": {},
   "outputs": [],
   "source": [
    "import numpy as np\n",
    "import json\n",
    "import time\n",
    "import calendar\n",
    "import pandas as pd\n",
    "from pathlib import Path\n",
    "from datetime import datetime, timedelta\n",
    "import matplotlib.ticker as ticker\n",
    "import matplotlib.pyplot as plt\n",
    "import matplotlib as mpl\n",
    "from matplotlib.dates import DateFormatter\n",
    "from matplotlib.ticker import FuncFormatter\n",
    "import matplotlib.patches as mpatches\n",
    "\n",
    "import warnings\n",
    "warnings.simplefilter(action='ignore', category=FutureWarning)\n",
    "import seaborn as sns\n",
    "pd.options.mode.chained_assignment = None\n",
    "\n",
    "%matplotlib inline"
   ]
  },
  {
   "cell_type": "code",
   "execution_count": 3,
   "metadata": {},
   "outputs": [],
   "source": [
    "DATA_DIR = Path.cwd()"
   ]
  },
  {
   "cell_type": "code",
   "execution_count": 4,
   "metadata": {},
   "outputs": [],
   "source": [
    "def save_obj(obj, name):\n",
    "    import pickle\n",
    "    with open(DATA_DIR / str(name + '.pkl'), 'wb') as f:\n",
    "        pickle.dump(obj, f, pickle.HIGHEST_PROTOCOL)\n",
    "\n",
    "\n",
    "def load_obj(name ):\n",
    "    import pickle\n",
    "    with open(DATA_DIR / str(name + '.pkl'), 'rb') as f:\n",
    "        return pickle.load(f)\n",
    "\n",
    "    \n",
    "def bl(qty=1):\n",
    "    for l in range(qty):\n",
    "        print()"
   ]
  },
  {
   "cell_type": "markdown",
   "metadata": {},
   "source": [
    "# Part 1 code"
   ]
  },
  {
   "cell_type": "markdown",
   "metadata": {},
   "source": [
    "Reading and cleaning data"
   ]
  },
  {
   "cell_type": "code",
   "execution_count": 5,
   "metadata": {},
   "outputs": [
    {
     "data": {
      "text/html": [
       "<div>\n",
       "<style scoped>\n",
       "    .dataframe tbody tr th:only-of-type {\n",
       "        vertical-align: middle;\n",
       "    }\n",
       "\n",
       "    .dataframe tbody tr th {\n",
       "        vertical-align: top;\n",
       "    }\n",
       "\n",
       "    .dataframe thead th {\n",
       "        text-align: right;\n",
       "    }\n",
       "</style>\n",
       "<table border=\"1\" class=\"dataframe\">\n",
       "  <thead>\n",
       "    <tr style=\"text-align: right;\">\n",
       "      <th></th>\n",
       "      <th>login_time</th>\n",
       "    </tr>\n",
       "  </thead>\n",
       "  <tbody>\n",
       "    <tr>\n",
       "      <th>0</th>\n",
       "      <td>1970-01-01 20:13:18</td>\n",
       "    </tr>\n",
       "    <tr>\n",
       "      <th>1</th>\n",
       "      <td>1970-01-01 20:16:10</td>\n",
       "    </tr>\n",
       "    <tr>\n",
       "      <th>2</th>\n",
       "      <td>1970-01-01 20:16:37</td>\n",
       "    </tr>\n",
       "    <tr>\n",
       "      <th>3</th>\n",
       "      <td>1970-01-01 20:16:36</td>\n",
       "    </tr>\n",
       "    <tr>\n",
       "      <th>4</th>\n",
       "      <td>1970-01-01 20:26:21</td>\n",
       "    </tr>\n",
       "  </tbody>\n",
       "</table>\n",
       "</div>"
      ],
      "text/plain": [
       "           login_time\n",
       "0 1970-01-01 20:13:18\n",
       "1 1970-01-01 20:16:10\n",
       "2 1970-01-01 20:16:37\n",
       "3 1970-01-01 20:16:36\n",
       "4 1970-01-01 20:26:21"
      ]
     },
     "execution_count": 5,
     "metadata": {},
     "output_type": "execute_result"
    }
   ],
   "source": [
    "df_second = pd.read_json('logins.json')\n",
    "df_second.head(5)"
   ]
  },
  {
   "cell_type": "code",
   "execution_count": 6,
   "metadata": {},
   "outputs": [
    {
     "data": {
      "text/html": [
       "<div>\n",
       "<style scoped>\n",
       "    .dataframe tbody tr th:only-of-type {\n",
       "        vertical-align: middle;\n",
       "    }\n",
       "\n",
       "    .dataframe tbody tr th {\n",
       "        vertical-align: top;\n",
       "    }\n",
       "\n",
       "    .dataframe thead th {\n",
       "        text-align: right;\n",
       "    }\n",
       "</style>\n",
       "<table border=\"1\" class=\"dataframe\">\n",
       "  <thead>\n",
       "    <tr style=\"text-align: right;\">\n",
       "      <th></th>\n",
       "      <th>login_time</th>\n",
       "    </tr>\n",
       "  </thead>\n",
       "  <tbody>\n",
       "    <tr>\n",
       "      <th>count</th>\n",
       "      <td>93142</td>\n",
       "    </tr>\n",
       "    <tr>\n",
       "      <th>unique</th>\n",
       "      <td>92265</td>\n",
       "    </tr>\n",
       "    <tr>\n",
       "      <th>top</th>\n",
       "      <td>1970-02-12 11:16:53</td>\n",
       "    </tr>\n",
       "    <tr>\n",
       "      <th>freq</th>\n",
       "      <td>3</td>\n",
       "    </tr>\n",
       "    <tr>\n",
       "      <th>first</th>\n",
       "      <td>1970-01-01 20:12:16</td>\n",
       "    </tr>\n",
       "    <tr>\n",
       "      <th>last</th>\n",
       "      <td>1970-04-13 18:57:38</td>\n",
       "    </tr>\n",
       "  </tbody>\n",
       "</table>\n",
       "</div>"
      ],
      "text/plain": [
       "                 login_time\n",
       "count                 93142\n",
       "unique                92265\n",
       "top     1970-02-12 11:16:53\n",
       "freq                      3\n",
       "first   1970-01-01 20:12:16\n",
       "last    1970-04-13 18:57:38"
      ]
     },
     "execution_count": 6,
     "metadata": {},
     "output_type": "execute_result"
    }
   ],
   "source": [
    "df_second.describe()"
   ]
  },
  {
   "cell_type": "code",
   "execution_count": 7,
   "metadata": {},
   "outputs": [
    {
     "name": "stdout",
     "output_type": "stream",
     "text": [
      "<class 'pandas.core.frame.DataFrame'>\n",
      "RangeIndex: 93142 entries, 0 to 93141\n",
      "Data columns (total 1 columns):\n",
      " #   Column      Non-Null Count  Dtype         \n",
      "---  ------      --------------  -----         \n",
      " 0   login_time  93142 non-null  datetime64[ns]\n",
      "dtypes: datetime64[ns](1)\n",
      "memory usage: 727.8 KB\n"
     ]
    }
   ],
   "source": [
    "df_second.info()"
   ]
  },
  {
   "cell_type": "code",
   "execution_count": 8,
   "metadata": {},
   "outputs": [
    {
     "name": "stdout",
     "output_type": "stream",
     "text": [
      "No missing dates\n"
     ]
    }
   ],
   "source": [
    "# confirm no missing dates (calendar dates) in original data\n",
    "cal_dates = np.sort(df_second['login_time'].dt.date.unique())\n",
    "start_date, end_date = cal_dates.min(), cal_dates.max()\n",
    "serial_cal_dates = np.arange(start_date, end_date + pd.Timedelta(days=1), timedelta(days=1)).astype(datetime)\n",
    "serial_cal_dates = np.array([x.date() for x in serial_cal_dates])\n",
    "if np.array_equal(cal_dates, serial_cal_dates):\n",
    "    print(f'No missing dates')\n",
    "else:\n",
    "    print(f'WARNING - missing dates')"
   ]
  },
  {
   "cell_type": "code",
   "execution_count": 9,
   "metadata": {},
   "outputs": [
    {
     "name": "stdout",
     "output_type": "stream",
     "text": [
      "1970-01-01 20:12:16\n",
      "1970-04-13 18:57:38\n"
     ]
    }
   ],
   "source": [
    "print(df_second['login_time'].min())\n",
    "print(df_second['login_time'].max())"
   ]
  },
  {
   "cell_type": "markdown",
   "metadata": {},
   "source": [
    "The login data begins at 8:12pm on 01-01-1970 and ends at 6:57pm on 04-13-1970.  Both partial days are being removed for this analysis."
   ]
  },
  {
   "cell_type": "code",
   "execution_count": 10,
   "metadata": {},
   "outputs": [],
   "source": [
    "delete_rows = df_second[df_second['login_time'] < '19700102'].index\n",
    "df_second = df_second.drop(delete_rows)\n",
    "delete_rows = df_second[df_second['login_time'] > '19700413'].index\n",
    "df_second = df_second.drop(delete_rows)"
   ]
  },
  {
   "cell_type": "markdown",
   "metadata": {},
   "source": [
    "Sum the number of login_times by day"
   ]
  },
  {
   "cell_type": "code",
   "execution_count": 11,
   "metadata": {},
   "outputs": [],
   "source": [
    "df_1D = df_second.resample('1D', on='login_time').count().rename(columns={'login_time': 'count'})\n",
    "df_1D.index.set_names('login_date', inplace=True)\n",
    "df_1D.reset_index(inplace=True)\n",
    "df_1D['login_date'] = pd.to_datetime(df_1D['login_date'])\n",
    "df_1D['day_of_week'] = df_1D['login_date'].dt.dayofweek\n",
    "df_1D['day_name'] = df_1D['login_date'].dt.day_name().str[0:3]\n",
    "df_1D['week_no'] = df_1D['login_date'].dt.week"
   ]
  },
  {
   "cell_type": "markdown",
   "metadata": {},
   "source": [
    "Visualize the daily login informaiton."
   ]
  },
  {
   "cell_type": "code",
   "execution_count": 12,
   "metadata": {},
   "outputs": [
    {
     "name": "stdout",
     "output_type": "stream",
     "text": [
      "\n"
     ]
    },
    {
     "data": {
      "image/png": "[encoded data removed]",
      "text/plain": [
       "<Figure size 1008x432 with 1 Axes>"
      ]
     },
     "metadata": {
      "needs_background": "light"
     },
     "output_type": "display_data"
    },
    {
     "name": "stdout",
     "output_type": "stream",
     "text": [
      "\n",
      "\n"
     ]
    }
   ],
   "source": [
    "tick_spacing=7  # show one tick per week (7 days)\n",
    "fig, ax = plt.subplots(figsize=(14,6))\n",
    "x = df_1D['login_date']\n",
    "y = df_1D['count']\n",
    "plt.grid()  # show grid and place behind bars\n",
    "ax.set_axisbelow(True)\n",
    "bars = ax.bar(x, y, width=1)\n",
    "\n",
    "# adjust for easy viewing\n",
    "plt.title('Logins per day', fontsize=18)\n",
    "ax.xaxis.set_major_locator(ticker.MultipleLocator(tick_spacing))\n",
    "ax.set_xticklabels(ax.get_xticklabels(), rotation=90)\n",
    "ax.xaxis.set_major_formatter(DateFormatter('%m-%d-%y'))\n",
    "ax.yaxis.set_major_formatter(mpl.ticker.StrMethodFormatter('{x:,.0f}'))\n",
    "plt.margins(x=100)\n",
    "plt.xlim([min(x)- pd.Timedelta(days=2), max(x)+ pd.Timedelta(days=2)])\n",
    "\n",
    "plt.ylabel('Logins', fontsize=16)\n",
    "plt.xlabel('Dates', fontsize=16)\n",
    "fig.tight_layout()\n",
    "fig.subplots_adjust(bottom=0.3) \n",
    "fig.text(.5, .05, 'Figure 1', ha='left', fontsize=18)\n",
    "\n",
    "# highlight saturdays and sundays\n",
    "for item in bars[2::7]:\n",
    "    item.set_color('red')\n",
    "for item in bars[1::7]:\n",
    "    item.set_color('darkred')\n",
    "\n",
    "# create and show legend\n",
    "blue_patch = mpatches.Patch(color='steelblue', label='Weekday')\n",
    "darkred_patch = mpatches.Patch(color='darkred', label='Saturday')\n",
    "red_patch = mpatches.Patch(color='red', label='Sunday')\n",
    "\n",
    "plt.legend(handles=[blue_patch, darkred_patch, red_patch])\n",
    "\n",
    "bl()\n",
    "plt.savefig('Figure_1.png')\n",
    "plt.show()\n",
    "bl(2)"
   ]
  },
  {
   "cell_type": "code",
   "execution_count": 13,
   "metadata": {},
   "outputs": [],
   "source": [
    "# summarize in 15 minute increments\n",
    "df_15T = df_second.resample('15T', on='login_time').count().rename(columns={'login_time': 'count'})\n",
    "df_15T.index.set_names('login_time', inplace=True)\n",
    "df_15T.reset_index(inplace=True)\n",
    "df_15T['login_time'] = pd.to_datetime(df_15T['login_time'])\n",
    "df_15T['day_of_week'] = df_15T['login_time'].dt.dayofweek\n",
    "df_15T['day_name'] = df_15T['login_time'].dt.day_name().str[0:3]\n",
    "df_15T['str_login_time'] = df_15T['login_time'].dt.strftime('%T')\n",
    "df_15T['login_date'] = df_15T['login_time'].dt.date\n",
    "# average each 15min by day of week\n",
    "df_15T_weekday_average=pd.DataFrame(df_15T[['day_of_week','str_login_time','count']].groupby(['day_of_week','str_login_time']).mean()).reset_index()\n",
    "# df_15T_weekday_average.head()"
   ]
  },
  {
   "cell_type": "code",
   "execution_count": 14,
   "metadata": {},
   "outputs": [
    {
     "data": {
      "image/png": "[encoded data removed]",
      "text/plain": [
       "<Figure size 1152x720 with 7 Axes>"
      ]
     },
     "metadata": {
      "needs_background": "light"
     },
     "output_type": "display_data"
    }
   ],
   "source": [
    "# plot\n",
    "fig, axs = plt.subplots(nrows=7, ncols=1, figsize=(16,10), sharex=True, sharey=True)\n",
    "axs[0].set_title('Average logins by day of week\\nBars are 15 minute intervals', fontsize=18)\n",
    "back_color = ['cornsilk','cornsilk','cornsilk','cornsilk','cornsilk','lavenderblush', 'lavenderblush']\n",
    "\n",
    "for c, ax in enumerate(axs):\n",
    "    x = df_15T_weekday_average[df_15T_weekday_average['day_of_week']==c]['str_login_time'].reset_index(drop=True)\n",
    "    x = [z[0:5] for z in x] # remove seconds\n",
    "    y = df_15T_weekday_average[df_15T_weekday_average['day_of_week']==c]['count'].reset_index(drop=True)\n",
    "    bars = ax.bar(x, y, width=.6, color=(y > 20).map({True:'r', False:'b'}))\n",
    "for c, ax in enumerate(axs.flat):\n",
    "    ax.grid()  # show grid and place behind bars\n",
    "    ax.set_facecolor(back_color[c])\n",
    "    ax.set_axisbelow(True)\n",
    "    ax.set(ylabel = calendar.day_abbr[c] + '\\nAvg logins') # day_name for full name\n",
    "# x-labels only on last plot\n",
    "plt.xticks(range(len(x)), x, horizontalalignment='center')\n",
    "ax.set_xticklabels(ax.get_xticklabels(), rotation=90, fontsize=8);\n",
    "fig.text(.5, .05, 'Figure 2', ha='left', fontsize=18)\n",
    "\n",
    "# show only hours (a bit of a hack but works)\n",
    "for label in ax.xaxis.get_ticklabels()[1::2]:\n",
    "    label.set_visible(False)\n",
    "for label in ax.xaxis.get_ticklabels()[1::2]:\n",
    "    label.set_visible(False)\n",
    "plt.savefig('Figure_2.png')\n",
    "plt.show();"
   ]
  },
  {
   "cell_type": "code",
   "execution_count": 15,
   "metadata": {
    "scrolled": false
   },
   "outputs": [
    {
     "name": "stdout",
     "output_type": "stream",
     "text": [
      "\n"
     ]
    },
    {
     "data": {
      "image/png": "[encoded data removed]",
      "text/plain": [
       "<Figure size 1080x288 with 7 Axes>"
      ]
     },
     "metadata": {
      "needs_background": "light"
     },
     "output_type": "display_data"
    },
    {
     "name": "stdout",
     "output_type": "stream",
     "text": [
      "\n",
      "\n"
     ]
    }
   ],
   "source": [
    "# plot\n",
    "back_color = ['cornsilk','cornsilk','cornsilk','cornsilk','cornsilk','lavenderblush', 'lavenderblush']\n",
    "axs = sns.catplot(x='week_no', y='count', col='day_name', col_order=calendar.day_abbr , data=df_1D, kind='bar', col_wrap=7, legend=False, color='blue');\n",
    "axs.fig.set_size_inches(15,4)\n",
    "axes = axs.axes.flatten()\n",
    "plt.subplots_adjust(top=.75)\n",
    "axs.fig.suptitle('Weekday demand by week')\n",
    "plt.subplots_adjust(bottom=.3) \n",
    "axs.fig.text(.49, .05, 'Figure 3', ha='left')\n",
    "for c, ax in enumerate(axes):\n",
    "    ax.set_xticklabels(ax.get_xmajorticklabels(), fontsize = 7)\n",
    "    ax.set_title(calendar.day_abbr[c])\n",
    "    ax.set_xlabel('Week Number')\n",
    "    ax.grid(True)\n",
    "    ax.set_facecolor(back_color[c])\n",
    "\n",
    "bl()\n",
    "plt.savefig('Figure_3.png')\n",
    "plt.show();\n",
    "bl(2)"
   ]
  },
  {
   "cell_type": "markdown",
   "metadata": {},
   "source": [
    "# Part 3 code"
   ]
  },
  {
   "cell_type": "markdown",
   "metadata": {},
   "source": [
    "Housekeeping"
   ]
  },
  {
   "cell_type": "code",
   "execution_count": 16,
   "metadata": {},
   "outputs": [],
   "source": [
    "from lightgbm import LGBMClassifier\n",
    "from catboost import CatBoostClassifier\n",
    "from sklearn.svm import SVC, NuSVC\n",
    "from xgboost import XGBClassifier\n",
    "from sklearn.pipeline import make_pipeline\n",
    "from sklearn.metrics import (\n",
    "    accuracy_score,\n",
    "    f1_score,\n",
    "    precision_score,\n",
    "    recall_score,\n",
    "    roc_auc_score,\n",
    "    SCORERS,  # # sorted(SCORERS.keys())\n",
    "    confusion_matrix,\n",
    "    plot_confusion_matrix,\n",
    "    roc_curve\n",
    ")\n",
    "from sklearn.preprocessing import OneHotEncoder\n",
    "from sklearn.neighbors import KNeighborsClassifier\n",
    "from sklearn.model_selection import train_test_split, KFold\n",
    "from sklearn.naive_bayes import GaussianNB, MultinomialNB\n",
    "from sklearn.linear_model import SGDClassifier, LogisticRegression\n",
    "from sklearn.tree import DecisionTreeClassifier, ExtraTreeClassifier\n",
    "from sklearn.discriminant_analysis import (\n",
    "    QuadraticDiscriminantAnalysis,\n",
    "    LinearDiscriminantAnalysis,\n",
    ")\n",
    "from sklearn.ensemble import (\n",
    "    RandomForestClassifier,\n",
    "    AdaBoostClassifier,\n",
    "    GradientBoostingClassifier,\n",
    ")"
   ]
  },
  {
   "cell_type": "code",
   "execution_count": 17,
   "metadata": {},
   "outputs": [],
   "source": [
    "# Algorithms to try\n",
    "classification_algos_name = [\n",
    "    \"KNeighborsClassifier\",\n",
    "    \"GaussianNB\",\n",
    "    \"MultinomialNB\",\n",
    "    \"DecisionTreeClassifier\",\n",
    "    \"ExtraTreeClassifier\",\n",
    "    \"LinearDiscriminantAnalysis\",\n",
    "    \"RandomForestClassifier\",\n",
    "    \"AdaBoostClassifier\",\n",
    "    \"GradientBoostingClassifier\",\n",
    "    \"XGBClassifier\",\n",
    "    \"LGBMClassifier\",\n",
    "]\n",
    "\n",
    "classification_algos = [\n",
    "    KNeighborsClassifier(),\n",
    "    GaussianNB(),\n",
    "    MultinomialNB(),\n",
    "    DecisionTreeClassifier(),\n",
    "    ExtraTreeClassifier(),\n",
    "    LinearDiscriminantAnalysis(),\n",
    "    RandomForestClassifier(),\n",
    "    AdaBoostClassifier(),\n",
    "    GradientBoostingClassifier(),\n",
    "    XGBClassifier(),\n",
    "    LGBMClassifier(),\n",
    "]"
   ]
  },
  {
   "cell_type": "code",
   "execution_count": 18,
   "metadata": {},
   "outputs": [],
   "source": [
    "# helper function - plot confusion matrix\n",
    "def plot_cm(truth, prediction, cmap='Blues', font_scale=1.4):\n",
    "    cf_matrix = confusion_matrix(truth, prediction)\n",
    "    sns.set(font_scale=font_scale)\n",
    "    group_names = ['True Neg','False Pos','False Neg','True Pos']\n",
    "    group_counts = ['{0:0,.0f}'.format(value) for value in cf_matrix.flatten()]\n",
    "    group_percentages = ['{0:.2%}'.format(value) for value in cf_matrix.flatten()/np.sum(cf_matrix)]\n",
    "    labels = [f'{v1}\\n{v2}\\n{v3}' for v1, v2, v3 in zip(group_names,group_counts,group_percentages)]\n",
    "    labels = np.asarray(labels).reshape(2,2)\n",
    "    sns.heatmap(cf_matrix, annot=labels, fmt='', cmap=cmap);"
   ]
  },
  {
   "cell_type": "markdown",
   "metadata": {},
   "source": [
    "Read and clean data"
   ]
  },
  {
   "cell_type": "code",
   "execution_count": 19,
   "metadata": {},
   "outputs": [
    {
     "data": {
      "text/html": [
       "<div>\n",
       "<style scoped>\n",
       "    .dataframe tbody tr th:only-of-type {\n",
       "        vertical-align: middle;\n",
       "    }\n",
       "\n",
       "    .dataframe tbody tr th {\n",
       "        vertical-align: top;\n",
       "    }\n",
       "\n",
       "    .dataframe thead th {\n",
       "        text-align: right;\n",
       "    }\n",
       "</style>\n",
       "<table border=\"1\" class=\"dataframe\">\n",
       "  <thead>\n",
       "    <tr style=\"text-align: right;\">\n",
       "      <th></th>\n",
       "      <th>city</th>\n",
       "      <th>trips_in_first_30_days</th>\n",
       "      <th>signup_date</th>\n",
       "      <th>avg_rating_of_driver</th>\n",
       "      <th>avg_surge</th>\n",
       "      <th>last_trip_date</th>\n",
       "      <th>phone</th>\n",
       "      <th>surge_pct</th>\n",
       "      <th>ultimate_black_user</th>\n",
       "      <th>weekday_pct</th>\n",
       "      <th>avg_dist</th>\n",
       "      <th>avg_rating_by_driver</th>\n",
       "    </tr>\n",
       "  </thead>\n",
       "  <tbody>\n",
       "    <tr>\n",
       "      <th>0</th>\n",
       "      <td>King's Landing</td>\n",
       "      <td>4</td>\n",
       "      <td>2014-01-25</td>\n",
       "      <td>4.7</td>\n",
       "      <td>1.10</td>\n",
       "      <td>2014-06-17</td>\n",
       "      <td>iPhone</td>\n",
       "      <td>15.4</td>\n",
       "      <td>True</td>\n",
       "      <td>46.2</td>\n",
       "      <td>3.67</td>\n",
       "      <td>5.0</td>\n",
       "    </tr>\n",
       "    <tr>\n",
       "      <th>1</th>\n",
       "      <td>Astapor</td>\n",
       "      <td>0</td>\n",
       "      <td>2014-01-29</td>\n",
       "      <td>5.0</td>\n",
       "      <td>1.00</td>\n",
       "      <td>2014-05-05</td>\n",
       "      <td>Android</td>\n",
       "      <td>0.0</td>\n",
       "      <td>False</td>\n",
       "      <td>50.0</td>\n",
       "      <td>8.26</td>\n",
       "      <td>5.0</td>\n",
       "    </tr>\n",
       "    <tr>\n",
       "      <th>2</th>\n",
       "      <td>Astapor</td>\n",
       "      <td>3</td>\n",
       "      <td>2014-01-06</td>\n",
       "      <td>4.3</td>\n",
       "      <td>1.00</td>\n",
       "      <td>2014-01-07</td>\n",
       "      <td>iPhone</td>\n",
       "      <td>0.0</td>\n",
       "      <td>False</td>\n",
       "      <td>100.0</td>\n",
       "      <td>0.77</td>\n",
       "      <td>5.0</td>\n",
       "    </tr>\n",
       "    <tr>\n",
       "      <th>3</th>\n",
       "      <td>King's Landing</td>\n",
       "      <td>9</td>\n",
       "      <td>2014-01-10</td>\n",
       "      <td>4.6</td>\n",
       "      <td>1.14</td>\n",
       "      <td>2014-06-29</td>\n",
       "      <td>iPhone</td>\n",
       "      <td>20.0</td>\n",
       "      <td>True</td>\n",
       "      <td>80.0</td>\n",
       "      <td>2.36</td>\n",
       "      <td>4.9</td>\n",
       "    </tr>\n",
       "    <tr>\n",
       "      <th>4</th>\n",
       "      <td>Winterfell</td>\n",
       "      <td>14</td>\n",
       "      <td>2014-01-27</td>\n",
       "      <td>4.4</td>\n",
       "      <td>1.19</td>\n",
       "      <td>2014-03-15</td>\n",
       "      <td>Android</td>\n",
       "      <td>11.8</td>\n",
       "      <td>False</td>\n",
       "      <td>82.4</td>\n",
       "      <td>3.13</td>\n",
       "      <td>4.9</td>\n",
       "    </tr>\n",
       "  </tbody>\n",
       "</table>\n",
       "</div>"
      ],
      "text/plain": [
       "             city  trips_in_first_30_days signup_date  avg_rating_of_driver  \\\n",
       "0  King's Landing                       4  2014-01-25                   4.7   \n",
       "1         Astapor                       0  2014-01-29                   5.0   \n",
       "2         Astapor                       3  2014-01-06                   4.3   \n",
       "3  King's Landing                       9  2014-01-10                   4.6   \n",
       "4      Winterfell                      14  2014-01-27                   4.4   \n",
       "\n",
       "   avg_surge last_trip_date    phone  surge_pct  ultimate_black_user  \\\n",
       "0       1.10     2014-06-17   iPhone       15.4                 True   \n",
       "1       1.00     2014-05-05  Android        0.0                False   \n",
       "2       1.00     2014-01-07   iPhone        0.0                False   \n",
       "3       1.14     2014-06-29   iPhone       20.0                 True   \n",
       "4       1.19     2014-03-15  Android       11.8                False   \n",
       "\n",
       "   weekday_pct  avg_dist  avg_rating_by_driver  \n",
       "0         46.2      3.67                   5.0  \n",
       "1         50.0      8.26                   5.0  \n",
       "2        100.0      0.77                   5.0  \n",
       "3         80.0      2.36                   4.9  \n",
       "4         82.4      3.13                   4.9  "
      ]
     },
     "execution_count": 19,
     "metadata": {},
     "output_type": "execute_result"
    }
   ],
   "source": [
    "df_ultimate = pd.read_json('ultimate_data_challenge.json')\n",
    "df_ultimate.head()"
   ]
  },
  {
   "cell_type": "code",
   "execution_count": 20,
   "metadata": {},
   "outputs": [
    {
     "data": {
      "text/plain": [
       "'2014-07-01'"
      ]
     },
     "execution_count": 20,
     "metadata": {},
     "output_type": "execute_result"
    }
   ],
   "source": [
    "df_ultimate['last_trip_date'].max()"
   ]
  },
  {
   "cell_type": "code",
   "execution_count": 21,
   "metadata": {},
   "outputs": [
    {
     "data": {
      "text/html": [
       "<div>\n",
       "<style scoped>\n",
       "    .dataframe tbody tr th:only-of-type {\n",
       "        vertical-align: middle;\n",
       "    }\n",
       "\n",
       "    .dataframe tbody tr th {\n",
       "        vertical-align: top;\n",
       "    }\n",
       "\n",
       "    .dataframe thead th {\n",
       "        text-align: right;\n",
       "    }\n",
       "</style>\n",
       "<table border=\"1\" class=\"dataframe\">\n",
       "  <thead>\n",
       "    <tr style=\"text-align: right;\">\n",
       "      <th></th>\n",
       "      <th>trips_in_first_30_days</th>\n",
       "      <th>avg_rating_of_driver</th>\n",
       "      <th>avg_surge</th>\n",
       "      <th>surge_pct</th>\n",
       "      <th>weekday_pct</th>\n",
       "      <th>avg_dist</th>\n",
       "      <th>avg_rating_by_driver</th>\n",
       "    </tr>\n",
       "  </thead>\n",
       "  <tbody>\n",
       "    <tr>\n",
       "      <th>count</th>\n",
       "      <td>50000.000000</td>\n",
       "      <td>41878.000000</td>\n",
       "      <td>50000.000000</td>\n",
       "      <td>50000.000000</td>\n",
       "      <td>50000.000000</td>\n",
       "      <td>50000.000000</td>\n",
       "      <td>49799.000000</td>\n",
       "    </tr>\n",
       "    <tr>\n",
       "      <th>mean</th>\n",
       "      <td>2.278200</td>\n",
       "      <td>4.601559</td>\n",
       "      <td>1.074764</td>\n",
       "      <td>8.849536</td>\n",
       "      <td>60.926084</td>\n",
       "      <td>5.796827</td>\n",
       "      <td>4.778158</td>\n",
       "    </tr>\n",
       "    <tr>\n",
       "      <th>std</th>\n",
       "      <td>3.792684</td>\n",
       "      <td>0.617338</td>\n",
       "      <td>0.222336</td>\n",
       "      <td>19.958811</td>\n",
       "      <td>37.081503</td>\n",
       "      <td>5.707357</td>\n",
       "      <td>0.446652</td>\n",
       "    </tr>\n",
       "    <tr>\n",
       "      <th>min</th>\n",
       "      <td>0.000000</td>\n",
       "      <td>1.000000</td>\n",
       "      <td>1.000000</td>\n",
       "      <td>0.000000</td>\n",
       "      <td>0.000000</td>\n",
       "      <td>0.000000</td>\n",
       "      <td>1.000000</td>\n",
       "    </tr>\n",
       "    <tr>\n",
       "      <th>25%</th>\n",
       "      <td>0.000000</td>\n",
       "      <td>4.300000</td>\n",
       "      <td>1.000000</td>\n",
       "      <td>0.000000</td>\n",
       "      <td>33.300000</td>\n",
       "      <td>2.420000</td>\n",
       "      <td>4.700000</td>\n",
       "    </tr>\n",
       "    <tr>\n",
       "      <th>50%</th>\n",
       "      <td>1.000000</td>\n",
       "      <td>4.900000</td>\n",
       "      <td>1.000000</td>\n",
       "      <td>0.000000</td>\n",
       "      <td>66.700000</td>\n",
       "      <td>3.880000</td>\n",
       "      <td>5.000000</td>\n",
       "    </tr>\n",
       "    <tr>\n",
       "      <th>75%</th>\n",
       "      <td>3.000000</td>\n",
       "      <td>5.000000</td>\n",
       "      <td>1.050000</td>\n",
       "      <td>8.600000</td>\n",
       "      <td>100.000000</td>\n",
       "      <td>6.940000</td>\n",
       "      <td>5.000000</td>\n",
       "    </tr>\n",
       "    <tr>\n",
       "      <th>max</th>\n",
       "      <td>125.000000</td>\n",
       "      <td>5.000000</td>\n",
       "      <td>8.000000</td>\n",
       "      <td>100.000000</td>\n",
       "      <td>100.000000</td>\n",
       "      <td>160.960000</td>\n",
       "      <td>5.000000</td>\n",
       "    </tr>\n",
       "  </tbody>\n",
       "</table>\n",
       "</div>"
      ],
      "text/plain": [
       "       trips_in_first_30_days  avg_rating_of_driver     avg_surge  \\\n",
       "count            50000.000000          41878.000000  50000.000000   \n",
       "mean                 2.278200              4.601559      1.074764   \n",
       "std                  3.792684              0.617338      0.222336   \n",
       "min                  0.000000              1.000000      1.000000   \n",
       "25%                  0.000000              4.300000      1.000000   \n",
       "50%                  1.000000              4.900000      1.000000   \n",
       "75%                  3.000000              5.000000      1.050000   \n",
       "max                125.000000              5.000000      8.000000   \n",
       "\n",
       "          surge_pct   weekday_pct      avg_dist  avg_rating_by_driver  \n",
       "count  50000.000000  50000.000000  50000.000000          49799.000000  \n",
       "mean       8.849536     60.926084      5.796827              4.778158  \n",
       "std       19.958811     37.081503      5.707357              0.446652  \n",
       "min        0.000000      0.000000      0.000000              1.000000  \n",
       "25%        0.000000     33.300000      2.420000              4.700000  \n",
       "50%        0.000000     66.700000      3.880000              5.000000  \n",
       "75%        8.600000    100.000000      6.940000              5.000000  \n",
       "max      100.000000    100.000000    160.960000              5.000000  "
      ]
     },
     "execution_count": 21,
     "metadata": {},
     "output_type": "execute_result"
    }
   ],
   "source": [
    "df_ultimate.describe()"
   ]
  },
  {
   "cell_type": "code",
   "execution_count": 22,
   "metadata": {},
   "outputs": [
    {
     "name": "stdout",
     "output_type": "stream",
     "text": [
      "<class 'pandas.core.frame.DataFrame'>\n",
      "RangeIndex: 50000 entries, 0 to 49999\n",
      "Data columns (total 12 columns):\n",
      " #   Column                  Non-Null Count  Dtype  \n",
      "---  ------                  --------------  -----  \n",
      " 0   city                    50000 non-null  object \n",
      " 1   trips_in_first_30_days  50000 non-null  int64  \n",
      " 2   signup_date             50000 non-null  object \n",
      " 3   avg_rating_of_driver    41878 non-null  float64\n",
      " 4   avg_surge               50000 non-null  float64\n",
      " 5   last_trip_date          50000 non-null  object \n",
      " 6   phone                   49604 non-null  object \n",
      " 7   surge_pct               50000 non-null  float64\n",
      " 8   ultimate_black_user     50000 non-null  bool   \n",
      " 9   weekday_pct             50000 non-null  float64\n",
      " 10  avg_dist                50000 non-null  float64\n",
      " 11  avg_rating_by_driver    49799 non-null  float64\n",
      "dtypes: bool(1), float64(6), int64(1), object(4)\n",
      "memory usage: 4.2+ MB\n"
     ]
    }
   ],
   "source": [
    "df_ultimate.info()"
   ]
  },
  {
   "cell_type": "code",
   "execution_count": 23,
   "metadata": {},
   "outputs": [
    {
     "data": {
      "text/plain": [
       "city                       object\n",
       "trips_in_first_30_days      int64\n",
       "signup_date                object\n",
       "avg_rating_of_driver      float64\n",
       "avg_surge                 float64\n",
       "last_trip_date             object\n",
       "phone                      object\n",
       "surge_pct                 float64\n",
       "ultimate_black_user          bool\n",
       "weekday_pct               float64\n",
       "avg_dist                  float64\n",
       "avg_rating_by_driver      float64\n",
       "dtype: object"
      ]
     },
     "execution_count": 23,
     "metadata": {},
     "output_type": "execute_result"
    }
   ],
   "source": [
    "df_ultimate.dtypes"
   ]
  },
  {
   "cell_type": "code",
   "execution_count": 24,
   "metadata": {},
   "outputs": [
    {
     "name": "stdout",
     "output_type": "stream",
     "text": [
      "To be active, user must have taken a trip on or after 06/01/2014.\n",
      "\n",
      "Retained customers:               18,804\n",
      "Total customers:                  50,000\n",
      "Percent of Retained customers:     37.61%\n"
     ]
    },
    {
     "data": {
      "text/html": [
       "<div>\n",
       "<style scoped>\n",
       "    .dataframe tbody tr th:only-of-type {\n",
       "        vertical-align: middle;\n",
       "    }\n",
       "\n",
       "    .dataframe tbody tr th {\n",
       "        vertical-align: top;\n",
       "    }\n",
       "\n",
       "    .dataframe thead th {\n",
       "        text-align: right;\n",
       "    }\n",
       "</style>\n",
       "<table border=\"1\" class=\"dataframe\">\n",
       "  <thead>\n",
       "    <tr style=\"text-align: right;\">\n",
       "      <th></th>\n",
       "      <th>avg_dist</th>\n",
       "      <th>avg_rating_by_driver</th>\n",
       "      <th>avg_rating_of_driver</th>\n",
       "      <th>avg_surge</th>\n",
       "      <th>city</th>\n",
       "      <th>phone</th>\n",
       "      <th>retained</th>\n",
       "      <th>signup_date</th>\n",
       "      <th>surge_pct</th>\n",
       "      <th>trips_in_first_30_days</th>\n",
       "      <th>ultimate_black_user</th>\n",
       "      <th>weekday_pct</th>\n",
       "    </tr>\n",
       "  </thead>\n",
       "  <tbody>\n",
       "    <tr>\n",
       "      <th>0</th>\n",
       "      <td>3.67</td>\n",
       "      <td>5.0</td>\n",
       "      <td>4.7</td>\n",
       "      <td>1.10</td>\n",
       "      <td>King's Landing</td>\n",
       "      <td>iPhone</td>\n",
       "      <td>True</td>\n",
       "      <td>735258</td>\n",
       "      <td>15.4</td>\n",
       "      <td>4</td>\n",
       "      <td>True</td>\n",
       "      <td>46.2</td>\n",
       "    </tr>\n",
       "    <tr>\n",
       "      <th>1</th>\n",
       "      <td>8.26</td>\n",
       "      <td>5.0</td>\n",
       "      <td>5.0</td>\n",
       "      <td>1.00</td>\n",
       "      <td>Astapor</td>\n",
       "      <td>Android</td>\n",
       "      <td>False</td>\n",
       "      <td>735262</td>\n",
       "      <td>0.0</td>\n",
       "      <td>0</td>\n",
       "      <td>False</td>\n",
       "      <td>50.0</td>\n",
       "    </tr>\n",
       "    <tr>\n",
       "      <th>2</th>\n",
       "      <td>0.77</td>\n",
       "      <td>5.0</td>\n",
       "      <td>4.3</td>\n",
       "      <td>1.00</td>\n",
       "      <td>Astapor</td>\n",
       "      <td>iPhone</td>\n",
       "      <td>False</td>\n",
       "      <td>735239</td>\n",
       "      <td>0.0</td>\n",
       "      <td>3</td>\n",
       "      <td>False</td>\n",
       "      <td>100.0</td>\n",
       "    </tr>\n",
       "    <tr>\n",
       "      <th>3</th>\n",
       "      <td>2.36</td>\n",
       "      <td>4.9</td>\n",
       "      <td>4.6</td>\n",
       "      <td>1.14</td>\n",
       "      <td>King's Landing</td>\n",
       "      <td>iPhone</td>\n",
       "      <td>True</td>\n",
       "      <td>735243</td>\n",
       "      <td>20.0</td>\n",
       "      <td>9</td>\n",
       "      <td>True</td>\n",
       "      <td>80.0</td>\n",
       "    </tr>\n",
       "    <tr>\n",
       "      <th>4</th>\n",
       "      <td>3.13</td>\n",
       "      <td>4.9</td>\n",
       "      <td>4.4</td>\n",
       "      <td>1.19</td>\n",
       "      <td>Winterfell</td>\n",
       "      <td>Android</td>\n",
       "      <td>False</td>\n",
       "      <td>735260</td>\n",
       "      <td>11.8</td>\n",
       "      <td>14</td>\n",
       "      <td>False</td>\n",
       "      <td>82.4</td>\n",
       "    </tr>\n",
       "  </tbody>\n",
       "</table>\n",
       "</div>"
      ],
      "text/plain": [
       "   avg_dist  avg_rating_by_driver  avg_rating_of_driver  avg_surge  \\\n",
       "0      3.67                   5.0                   4.7       1.10   \n",
       "1      8.26                   5.0                   5.0       1.00   \n",
       "2      0.77                   5.0                   4.3       1.00   \n",
       "3      2.36                   4.9                   4.6       1.14   \n",
       "4      3.13                   4.9                   4.4       1.19   \n",
       "\n",
       "             city    phone  retained  signup_date  surge_pct  \\\n",
       "0  King's Landing   iPhone      True       735258       15.4   \n",
       "1         Astapor  Android     False       735262        0.0   \n",
       "2         Astapor   iPhone     False       735239        0.0   \n",
       "3  King's Landing   iPhone      True       735243       20.0   \n",
       "4      Winterfell  Android     False       735260       11.8   \n",
       "\n",
       "   trips_in_first_30_days  ultimate_black_user  weekday_pct  \n",
       "0                       4                 True         46.2  \n",
       "1                       0                False         50.0  \n",
       "2                       3                False        100.0  \n",
       "3                       9                 True         80.0  \n",
       "4                      14                False         82.4  "
      ]
     },
     "execution_count": 24,
     "metadata": {},
     "output_type": "execute_result"
    }
   ],
   "source": [
    "# convert signup date to ordinal\n",
    "df_ultimate['signup_date'] = pd.to_datetime(df_ultimate['signup_date'].astype('datetime64[ns]'))\n",
    "df_ultimate['signup_date'] = df_ultimate['signup_date'].map(datetime.toordinal)\n",
    "\n",
    "\n",
    "# calculate retained field based on last_trip_date and convert last_trip_date to ordinal\n",
    "df_ultimate['last_trip_date'] = pd.to_datetime(df_ultimate['last_trip_date'].astype('datetime64[ns]'))\n",
    "retained_window = df_ultimate['last_trip_date'].max() - pd.Timedelta(days=30)\n",
    "df_ultimate['retained'] = df_ultimate['last_trip_date'] >= retained_window\n",
    "df_ultimate.drop(['last_trip_date'], axis=1, inplace=True)\n",
    "\n",
    "# fill na data with averages\n",
    "df_ultimate['avg_rating_of_driver'].fillna(df_ultimate['avg_rating_of_driver'].mean(), inplace=True)\n",
    "df_ultimate['avg_rating_by_driver'].fillna(df_ultimate['avg_rating_by_driver'].mean(), inplace=True)\n",
    "\n",
    "# populate blank phone type data\n",
    "df_ultimate['phone'].fillna('Generic', inplace=True)\n",
    "\n",
    "print(f'To be active, user must have taken a trip on or after {retained_window.strftime(\"%m/%d/%Y\")}.')\n",
    "bl()\n",
    "print(f'{\"Retained customers:\":<33} {df_ultimate[\"retained\"].sum():,.0f}')\n",
    "print(f'{\"Total customers:\":<33} {df_ultimate[\"retained\"].count():,.0f}')\n",
    "print(f'{\"Percent of Retained customers:\":<34} {((df_ultimate[\"retained\"].sum()) / (df_ultimate.shape[0])):.2%}')\n",
    "df_ultimate = df_ultimate.reindex(sorted(df_ultimate.columns), axis=1)\n",
    "df_ultimate.head()"
   ]
  },
  {
   "cell_type": "code",
   "execution_count": 25,
   "metadata": {},
   "outputs": [
    {
     "name": "stdout",
     "output_type": "stream",
     "text": [
      "Catagorical columns: Index(['city', 'phone'], dtype='object')\n"
     ]
    },
    {
     "data": {
      "text/html": [
       "<div>\n",
       "<style scoped>\n",
       "    .dataframe tbody tr th:only-of-type {\n",
       "        vertical-align: middle;\n",
       "    }\n",
       "\n",
       "    .dataframe tbody tr th {\n",
       "        vertical-align: top;\n",
       "    }\n",
       "\n",
       "    .dataframe thead th {\n",
       "        text-align: right;\n",
       "    }\n",
       "</style>\n",
       "<table border=\"1\" class=\"dataframe\">\n",
       "  <thead>\n",
       "    <tr style=\"text-align: right;\">\n",
       "      <th></th>\n",
       "      <th>avg_dist</th>\n",
       "      <th>avg_rating_by_driver</th>\n",
       "      <th>avg_rating_of_driver</th>\n",
       "      <th>avg_surge</th>\n",
       "      <th>retained</th>\n",
       "      <th>signup_date</th>\n",
       "      <th>surge_pct</th>\n",
       "      <th>trips_in_first_30_days</th>\n",
       "      <th>ultimate_black_user</th>\n",
       "      <th>weekday_pct</th>\n",
       "      <th>city_Astapor</th>\n",
       "      <th>city_King's Landing</th>\n",
       "      <th>city_Winterfell</th>\n",
       "      <th>phone_Android</th>\n",
       "      <th>phone_Generic</th>\n",
       "      <th>phone_iPhone</th>\n",
       "    </tr>\n",
       "  </thead>\n",
       "  <tbody>\n",
       "    <tr>\n",
       "      <th>0</th>\n",
       "      <td>3.67</td>\n",
       "      <td>5.0</td>\n",
       "      <td>4.7</td>\n",
       "      <td>1.10</td>\n",
       "      <td>True</td>\n",
       "      <td>735258</td>\n",
       "      <td>15.4</td>\n",
       "      <td>4</td>\n",
       "      <td>True</td>\n",
       "      <td>46.2</td>\n",
       "      <td>0</td>\n",
       "      <td>1</td>\n",
       "      <td>0</td>\n",
       "      <td>0</td>\n",
       "      <td>0</td>\n",
       "      <td>1</td>\n",
       "    </tr>\n",
       "    <tr>\n",
       "      <th>1</th>\n",
       "      <td>8.26</td>\n",
       "      <td>5.0</td>\n",
       "      <td>5.0</td>\n",
       "      <td>1.00</td>\n",
       "      <td>False</td>\n",
       "      <td>735262</td>\n",
       "      <td>0.0</td>\n",
       "      <td>0</td>\n",
       "      <td>False</td>\n",
       "      <td>50.0</td>\n",
       "      <td>1</td>\n",
       "      <td>0</td>\n",
       "      <td>0</td>\n",
       "      <td>1</td>\n",
       "      <td>0</td>\n",
       "      <td>0</td>\n",
       "    </tr>\n",
       "    <tr>\n",
       "      <th>2</th>\n",
       "      <td>0.77</td>\n",
       "      <td>5.0</td>\n",
       "      <td>4.3</td>\n",
       "      <td>1.00</td>\n",
       "      <td>False</td>\n",
       "      <td>735239</td>\n",
       "      <td>0.0</td>\n",
       "      <td>3</td>\n",
       "      <td>False</td>\n",
       "      <td>100.0</td>\n",
       "      <td>1</td>\n",
       "      <td>0</td>\n",
       "      <td>0</td>\n",
       "      <td>0</td>\n",
       "      <td>0</td>\n",
       "      <td>1</td>\n",
       "    </tr>\n",
       "    <tr>\n",
       "      <th>3</th>\n",
       "      <td>2.36</td>\n",
       "      <td>4.9</td>\n",
       "      <td>4.6</td>\n",
       "      <td>1.14</td>\n",
       "      <td>True</td>\n",
       "      <td>735243</td>\n",
       "      <td>20.0</td>\n",
       "      <td>9</td>\n",
       "      <td>True</td>\n",
       "      <td>80.0</td>\n",
       "      <td>0</td>\n",
       "      <td>1</td>\n",
       "      <td>0</td>\n",
       "      <td>0</td>\n",
       "      <td>0</td>\n",
       "      <td>1</td>\n",
       "    </tr>\n",
       "    <tr>\n",
       "      <th>4</th>\n",
       "      <td>3.13</td>\n",
       "      <td>4.9</td>\n",
       "      <td>4.4</td>\n",
       "      <td>1.19</td>\n",
       "      <td>False</td>\n",
       "      <td>735260</td>\n",
       "      <td>11.8</td>\n",
       "      <td>14</td>\n",
       "      <td>False</td>\n",
       "      <td>82.4</td>\n",
       "      <td>0</td>\n",
       "      <td>0</td>\n",
       "      <td>1</td>\n",
       "      <td>1</td>\n",
       "      <td>0</td>\n",
       "      <td>0</td>\n",
       "    </tr>\n",
       "  </tbody>\n",
       "</table>\n",
       "</div>"
      ],
      "text/plain": [
       "   avg_dist  avg_rating_by_driver  avg_rating_of_driver  avg_surge  retained  \\\n",
       "0      3.67                   5.0                   4.7       1.10      True   \n",
       "1      8.26                   5.0                   5.0       1.00     False   \n",
       "2      0.77                   5.0                   4.3       1.00     False   \n",
       "3      2.36                   4.9                   4.6       1.14      True   \n",
       "4      3.13                   4.9                   4.4       1.19     False   \n",
       "\n",
       "   signup_date  surge_pct  trips_in_first_30_days  ultimate_black_user  \\\n",
       "0       735258       15.4                       4                 True   \n",
       "1       735262        0.0                       0                False   \n",
       "2       735239        0.0                       3                False   \n",
       "3       735243       20.0                       9                 True   \n",
       "4       735260       11.8                      14                False   \n",
       "\n",
       "   weekday_pct  city_Astapor  city_King's Landing  city_Winterfell  \\\n",
       "0         46.2             0                    1                0   \n",
       "1         50.0             1                    0                0   \n",
       "2        100.0             1                    0                0   \n",
       "3         80.0             0                    1                0   \n",
       "4         82.4             0                    0                1   \n",
       "\n",
       "   phone_Android  phone_Generic  phone_iPhone  \n",
       "0              0              0             1  \n",
       "1              1              0             0  \n",
       "2              0              0             1  \n",
       "3              0              0             1  \n",
       "4              1              0             0  "
      ]
     },
     "execution_count": 25,
     "metadata": {},
     "output_type": "execute_result"
    }
   ],
   "source": [
    "cat_cols = df_ultimate.select_dtypes(include=['object']).columns\n",
    "print(f'Catagorical columns: {cat_cols}')\n",
    "for col in cat_cols:\n",
    "    dummies = pd.get_dummies(df_ultimate[col]).rename(columns=lambda x:  col + '_' + str(x))\n",
    "    df_ultimate = pd.concat([df_ultimate, dummies], axis=1)\n",
    "    df_ultimate.drop([col], inplace=True, axis=1)\n",
    "df_ultimate.head()"
   ]
  },
  {
   "cell_type": "code",
   "execution_count": 26,
   "metadata": {},
   "outputs": [
    {
     "name": "stdout",
     "output_type": "stream",
     "text": [
      "Coorelation with retained\n"
     ]
    },
    {
     "data": {
      "text/plain": [
       "city_King's Landing       0.262284\n",
       "phone_iPhone              0.225244\n",
       "trips_in_first_30_days    0.210463\n",
       "ultimate_black_user       0.205002\n",
       "surge_pct                 0.011797\n",
       "weekday_pct               0.009693\n",
       "avg_surge                -0.003333\n",
       "phone_Generic            -0.007419\n",
       "avg_rating_of_driver     -0.010829\n",
       "signup_date              -0.020211\n",
       "avg_rating_by_driver     -0.026748\n",
       "city_Winterfell          -0.046611\n",
       "avg_dist                 -0.092780\n",
       "city_Astapor             -0.174655\n",
       "phone_Android            -0.225464\n",
       "Name: retained, dtype: float64"
      ]
     },
     "execution_count": 26,
     "metadata": {},
     "output_type": "execute_result"
    }
   ],
   "source": [
    "print(f'Coorelation with retained')\n",
    "df_ultimate.corr(method ='pearson') ['retained'].sort_values(ascending=False)[1:]"
   ]
  },
  {
   "cell_type": "code",
   "execution_count": 27,
   "metadata": {},
   "outputs": [
    {
     "data": {
      "image/png": "[encoded data removed]",
      "text/plain": [
       "<Figure size 792x648 with 2 Axes>"
      ]
     },
     "metadata": {},
     "output_type": "display_data"
    }
   ],
   "source": [
    "sns.set(style=\"white\")\n",
    "\n",
    "# Compute the correlation matrix\n",
    "df_corr = df_ultimate.corr()\n",
    "first_col = 'retained'\n",
    "df_corr = df_corr.reindex(columns=sorted(df_corr.columns))\n",
    "df_corr = df_corr.reindex(columns=([first_col] + list([a for a in df_corr.columns if a != first_col]) ))\n",
    "df_corr.drop('signup_date', inplace=True, axis=0)\n",
    "df_corr.drop('signup_date', inplace=True, axis=1)\n",
    "\n",
    "# Generate a mask for the upper triangle\n",
    "mask = np.triu(np.ones_like(df_corr, dtype=np.bool))\n",
    "\n",
    "# Set up the matplotlib figure\n",
    "f, ax = plt.subplots(figsize=(11, 9))\n",
    "\n",
    "# Generate a custom diverging colormap\n",
    "cmap = sns.diverging_palette(220, 10, as_cmap=True)\n",
    "\n",
    "# Draw the heatmap with the mask and correct aspect ratio\n",
    "g = sns.heatmap(df_corr, cmap=cmap, vmax=.3, center=0,\n",
    "            square=True, linewidths=.5, cbar_kws={\"shrink\": .5});\n",
    "g.figure.savefig(\"sns_corr.png\")"
   ]
  },
  {
   "cell_type": "code",
   "execution_count": 28,
   "metadata": {},
   "outputs": [
    {
     "name": "stdout",
     "output_type": "stream",
     "text": [
      "Total Data:                  50,000  100%  X\n",
      "\n",
      "Test (holdout) data:          5,000   10%  X_test\n",
      "Train and Validation data:   45,000   90%  X_train_and_valid\n",
      "\n",
      "Train data:                  36,000   72%  X_train\n",
      "Validation data:              9,000   18%  X_valid\n"
     ]
    }
   ],
   "source": [
    "# split the data\n",
    "X = df_ultimate.drop(\"retained\", axis=1)\n",
    "y = df_ultimate[\"retained\"]\n",
    "\n",
    "X_train_and_valid, X_test, y_train_and_valid, y_test = train_test_split(\n",
    "    X, y, test_size=0.1, random_state=50, stratify=y\n",
    ")\n",
    "# Separate remainder into training and validation data for optimization\n",
    "X_train, X_valid, y_train, y_valid = train_test_split(\n",
    "    X_train_and_valid,\n",
    "    y_train_and_valid,\n",
    "    test_size=0.2,\n",
    "    random_state=50,\n",
    "    stratify=y_train_and_valid,\n",
    ")\n",
    "\n",
    "print(f'{\"Total Data:\":<28}{X.shape[0]:7,.0f}{1:6.0%}  {\"X\"}')\n",
    "bl()\n",
    "print(f'{\"Test (holdout) data:\":<28}{X_test.shape[0]:7,.0f}{.1:6.0%}  {\"X_test\"}')\n",
    "print(\n",
    "    f'{\"Train and Validation data:\":<28}{X_train_and_valid.shape[0]:7,.0f}{.9:6.0%}  {\"X_train_and_valid\"}'\n",
    ")\n",
    "bl()\n",
    "print(f'{\"Train data:\":<28}{X_train.shape[0]:7,.0f}{.72:6.0%}  {\"X_train\"}')\n",
    "print(f'{\"Validation data:\":<28}{X_valid.shape[0]:7,.0f}{.18:6.0%}  {\"X_valid\"}')"
   ]
  },
  {
   "cell_type": "code",
   "execution_count": 29,
   "metadata": {
    "scrolled": true
   },
   "outputs": [
    {
     "name": "stdout",
     "output_type": "stream",
     "text": [
      "classsifier                    accuracy  f1_score  precision    recall   roc_auc  time           \n",
      "KNeighborsClassifier             72.56%    61.95%     64.72%    59.41%    69.95%  1.00 sec\n",
      "GaussianNB                       69.93%    64.05%     58.19%    71.23%    70.19%  0.05 sec\n",
      "MultinomialNB                    65.89%    50.18%     55.67%    45.67%    61.87%  0.05 sec\n",
      "DecisionTreeClassifier           70.64%    61.02%     60.95%    61.09%    68.75%  0.21 sec\n",
      "ExtraTreeClassifier              69.86%    59.66%     60.06%    59.26%    67.75%  0.06 sec\n",
      "LinearDiscriminantAnalysis       71.44%    55.21%     67.32%    46.79%    66.55%  0.12 sec\n",
      "RandomForestClassifier           77.22%    68.40%     71.51%    65.55%    74.91%  3.39 sec\n",
      "AdaBoostClassifier               77.22%    68.03%     72.05%    64.43%    74.68%  2.28 sec\n",
      "GradientBoostingClassifier       78.02%    69.28%     73.04%    65.88%    75.61%  3.40 sec\n",
      "XGBClassifier                    78.00%    69.29%     72.94%    66.00%    75.62%  1.48 sec\n",
      "LGBMClassifier                   78.36%    69.59%     73.78%    65.85%    75.87%  0.45 sec\n"
     ]
    }
   ],
   "source": [
    "accuracy_score_list = []\n",
    "f1_score_list = []\n",
    "precision_score_list = []\n",
    "recall_score_list = []\n",
    "roc_auc_score_list = []\n",
    "\n",
    "print(\n",
    "    f'{\"classsifier\":<30} {\"accuracy\":<6}  {\"f1_score\":<6}  {\"precision\":<7}    {\"recall\":<6}   {\"roc_auc\":<6}  {\"time\":<15}'\n",
    ")\n",
    "\n",
    "\n",
    "for idx, mod in enumerate(classification_algos):\n",
    "    start = time.time()\n",
    "    model = mod\n",
    "    model.fit(X_train, y_train)\n",
    "    y_valid_pred = model.predict(X_valid)\n",
    "    end = time.time()\n",
    "    recall_score_list.append(recall_score(y_valid, y_valid_pred))\n",
    "    precision_score_list.append(precision_score(y_valid, y_valid_pred))\n",
    "    f1_score_list.append(f1_score(y_valid, y_valid_pred))\n",
    "    accuracy_score_list.append(accuracy_score(y_valid, y_valid_pred))\n",
    "    roc_auc_score_list.append(roc_auc_score(y_valid, y_valid_pred))\n",
    "\n",
    "    print(\n",
    "        f\"{classification_algos_name[idx]:<30} {accuracy_score_list[idx]:>8.2%}  {f1_score_list[idx]:>8.2%}  {precision_score_list[idx]:>9.2%}  {recall_score_list[idx]:>8.2%}  {roc_auc_score_list[idx]:>8.2%}  {end-start:.2f} sec\"\n",
    "    )"
   ]
  },
  {
   "cell_type": "code",
   "execution_count": 30,
   "metadata": {},
   "outputs": [
    {
     "data": {
      "text/html": [
       "\n",
       "    <div class=\"bk-root\">\n",
       "        <a href=\"https://bokeh.org\" target=\"_blank\" class=\"bk-logo bk-logo-small bk-logo-notebook\"></a>\n",
       "        <span id=\"1001\">Loading BokehJS ...</span>\n",
       "    </div>"
      ]
     },
     "metadata": {},
     "output_type": "display_data"
    },
    {
     "data": {
      "application/javascript": [
       "\n",
       "(function(root) {\n",
       "  function now() {\n",
       "    return new Date();\n",
       "  }\n",
       "\n",
       "  var force = true;\n",
       "\n",
       "  if (typeof root._bokeh_onload_callbacks === \"undefined\" || force === true) {\n",
       "    root._bokeh_onload_callbacks = [];\n",
       "    root._bokeh_is_loading = undefined;\n",
       "  }\n",
       "\n",
       "  var JS_MIME_TYPE = 'application/javascript';\n",
       "  var HTML_MIME_TYPE = 'text/html';\n",
       "  var EXEC_MIME_TYPE = 'application/vnd.bokehjs_exec.v0+json';\n",
       "  var CLASS_NAME = 'output_bokeh rendered_html';\n",
       "\n",
       "  /**\n",
       "   * Render data to the DOM node\n",
       "   */\n",
       "  function render(props, node) {\n",
       "    var script = document.createElement(\"script\");\n",
       "    node.appendChild(script);\n",
       "  }\n",
       "\n",
       "  /**\n",
       "   * Handle when an output is cleared or removed\n",
       "   */\n",
       "  function handleClearOutput(event, handle) {\n",
       "    var cell = handle.cell;\n",
       "\n",
       "    var id = cell.output_area._bokeh_element_id;\n",
       "    var server_id = cell.output_area._bokeh_server_id;\n",
       "    // Clean up Bokeh references\n",
       "    if (id != null && id in Bokeh.index) {\n",
       "      Bokeh.index[id].model.document.clear();\n",
       "      delete Bokeh.index[id];\n",
       "    }\n",
       "\n",
       "    if (server_id !== undefined) {\n",
       "      // Clean up Bokeh references\n",
       "      var cmd = \"from bokeh.io.state import curstate; print(curstate().uuid_to_server['\" + server_id + \"'].get_sessions()[0].document.roots[0]._id)\";\n",
       "      cell.notebook.kernel.execute(cmd, {\n",
       "        iopub: {\n",
       "          output: function(msg) {\n",
       "            var id = msg.content.text.trim();\n",
       "            if (id in Bokeh.index) {\n",
       "              Bokeh.index[id].model.document.clear();\n",
       "              delete Bokeh.index[id];\n",
       "            }\n",
       "          }\n",
       "        }\n",
       "      });\n",
       "      // Destroy server and session\n",
       "      var cmd = \"import bokeh.io.notebook as ion; ion.destroy_server('\" + server_id + \"')\";\n",
       "      cell.notebook.kernel.execute(cmd);\n",
       "    }\n",
       "  }\n",
       "\n",
       "  /**\n",
       "   * Handle when a new output is added\n",
       "   */\n",
       "  function handleAddOutput(event, handle) {\n",
       "    var output_area = handle.output_area;\n",
       "    var output = handle.output;\n",
       "\n",
       "    // limit handleAddOutput to display_data with EXEC_MIME_TYPE content only\n",
       "    if ((output.output_type != \"display_data\") || (!output.data.hasOwnProperty(EXEC_MIME_TYPE))) {\n",
       "      return\n",
       "    }\n",
       "\n",
       "    var toinsert = output_area.element.find(\".\" + CLASS_NAME.split(' ')[0]);\n",
       "\n",
       "    if (output.metadata[EXEC_MIME_TYPE][\"id\"] !== undefined) {\n",
       "      toinsert[toinsert.length - 1].firstChild.textContent = output.data[JS_MIME_TYPE];\n",
       "      // store reference to embed id on output_area\n",
       "      output_area._bokeh_element_id = output.metadata[EXEC_MIME_TYPE][\"id\"];\n",
       "    }\n",
       "    if (output.metadata[EXEC_MIME_TYPE][\"server_id\"] !== undefined) {\n",
       "      var bk_div = document.createElement(\"div\");\n",
       "      bk_div.innerHTML = output.data[HTML_MIME_TYPE];\n",
       "      var script_attrs = bk_div.children[0].attributes;\n",
       "      for (var i = 0; i < script_attrs.length; i++) {\n",
       "        toinsert[toinsert.length - 1].firstChild.setAttribute(script_attrs[i].name, script_attrs[i].value);\n",
       "      }\n",
       "      // store reference to server id on output_area\n",
       "      output_area._bokeh_server_id = output.metadata[EXEC_MIME_TYPE][\"server_id\"];\n",
       "    }\n",
       "  }\n",
       "\n",
       "  function register_renderer(events, OutputArea) {\n",
       "\n",
       "    function append_mime(data, metadata, element) {\n",
       "      // create a DOM node to render to\n",
       "      var toinsert = this.create_output_subarea(\n",
       "        metadata,\n",
       "        CLASS_NAME,\n",
       "        EXEC_MIME_TYPE\n",
       "      );\n",
       "      this.keyboard_manager.register_events(toinsert);\n",
       "      // Render to node\n",
       "      var props = {data: data, metadata: metadata[EXEC_MIME_TYPE]};\n",
       "      render(props, toinsert[toinsert.length - 1]);\n",
       "      element.append(toinsert);\n",
       "      return toinsert\n",
       "    }\n",
       "\n",
       "    /* Handle when an output is cleared or removed */\n",
       "    events.on('clear_output.CodeCell', handleClearOutput);\n",
       "    events.on('delete.Cell', handleClearOutput);\n",
       "\n",
       "    /* Handle when a new output is added */\n",
       "    events.on('output_added.OutputArea', handleAddOutput);\n",
       "\n",
       "    /**\n",
       "     * Register the mime type and append_mime function with output_area\n",
       "     */\n",
       "    OutputArea.prototype.register_mime_type(EXEC_MIME_TYPE, append_mime, {\n",
       "      /* Is output safe? */\n",
       "      safe: true,\n",
       "      /* Index of renderer in `output_area.display_order` */\n",
       "      index: 0\n",
       "    });\n",
       "  }\n",
       "\n",
       "  // register the mime type if in Jupyter Notebook environment and previously unregistered\n",
       "  if (root.Jupyter !== undefined) {\n",
       "    var events = require('base/js/events');\n",
       "    var OutputArea = require('notebook/js/outputarea').OutputArea;\n",
       "\n",
       "    if (OutputArea.prototype.mime_types().indexOf(EXEC_MIME_TYPE) == -1) {\n",
       "      register_renderer(events, OutputArea);\n",
       "    }\n",
       "  }\n",
       "\n",
       "  \n",
       "  if (typeof (root._bokeh_timeout) === \"undefined\" || force === true) {\n",
       "    root._bokeh_timeout = Date.now() + 5000;\n",
       "    root._bokeh_failed_load = false;\n",
       "  }\n",
       "\n",
       "  var NB_LOAD_WARNING = {'data': {'text/html':\n",
       "     \"<div style='background-color: #fdd'>\\n\"+\n",
       "     \"<p>\\n\"+\n",
       "     \"BokehJS does not appear to have successfully loaded. If loading BokehJS from CDN, this \\n\"+\n",
       "     \"may be due to a slow or bad network connection. Possible fixes:\\n\"+\n",
       "     \"</p>\\n\"+\n",
       "     \"<ul>\\n\"+\n",
       "     \"<li>re-rerun `output_notebook()` to attempt to load from CDN again, or</li>\\n\"+\n",
       "     \"<li>use INLINE resources instead, as so:</li>\\n\"+\n",
       "     \"</ul>\\n\"+\n",
       "     \"<code>\\n\"+\n",
       "     \"from bokeh.resources import INLINE\\n\"+\n",
       "     \"output_notebook(resources=INLINE)\\n\"+\n",
       "     \"</code>\\n\"+\n",
       "     \"</div>\"}};\n",
       "\n",
       "  function display_loaded() {\n",
       "    var el = document.getElementById(\"1001\");\n",
       "    if (el != null) {\n",
       "      el.textContent = \"BokehJS is loading...\";\n",
       "    }\n",
       "    if (root.Bokeh !== undefined) {\n",
       "      if (el != null) {\n",
       "        el.textContent = \"BokehJS \" + root.Bokeh.version + \" successfully loaded.\";\n",
       "      }\n",
       "    } else if (Date.now() < root._bokeh_timeout) {\n",
       "      setTimeout(display_loaded, 100)\n",
       "    }\n",
       "  }\n",
       "\n",
       "\n",
       "  function run_callbacks() {\n",
       "    try {\n",
       "      root._bokeh_onload_callbacks.forEach(function(callback) {\n",
       "        if (callback != null)\n",
       "          callback();\n",
       "      });\n",
       "    } finally {\n",
       "      delete root._bokeh_onload_callbacks\n",
       "    }\n",
       "    console.debug(\"Bokeh: all callbacks have finished\");\n",
       "  }\n",
       "\n",
       "  function load_libs(css_urls, js_urls, callback) {\n",
       "    if (css_urls == null) css_urls = [];\n",
       "    if (js_urls == null) js_urls = [];\n",
       "\n",
       "    root._bokeh_onload_callbacks.push(callback);\n",
       "    if (root._bokeh_is_loading > 0) {\n",
       "      console.debug(\"Bokeh: BokehJS is being loaded, scheduling callback at\", now());\n",
       "      return null;\n",
       "    }\n",
       "    if (js_urls == null || js_urls.length === 0) {\n",
       "      run_callbacks();\n",
       "      return null;\n",
       "    }\n",
       "    console.debug(\"Bokeh: BokehJS not loaded, scheduling load and callback at\", now());\n",
       "    root._bokeh_is_loading = css_urls.length + js_urls.length;\n",
       "\n",
       "    function on_load() {\n",
       "      root._bokeh_is_loading--;\n",
       "      if (root._bokeh_is_loading === 0) {\n",
       "        console.debug(\"Bokeh: all BokehJS libraries/stylesheets loaded\");\n",
       "        run_callbacks()\n",
       "      }\n",
       "    }\n",
       "\n",
       "    function on_error() {\n",
       "      console.error(\"failed to load \" + url);\n",
       "    }\n",
       "\n",
       "    for (var i = 0; i < css_urls.length; i++) {\n",
       "      var url = css_urls[i];\n",
       "      const element = document.createElement(\"link\");\n",
       "      element.onload = on_load;\n",
       "      element.onerror = on_error;\n",
       "      element.rel = \"stylesheet\";\n",
       "      element.type = \"text/css\";\n",
       "      element.href = url;\n",
       "      console.debug(\"Bokeh: injecting link tag for BokehJS stylesheet: \", url);\n",
       "      document.body.appendChild(element);\n",
       "    }\n",
       "\n",
       "    for (var i = 0; i < js_urls.length; i++) {\n",
       "      var url = js_urls[i];\n",
       "      var element = document.createElement('script');\n",
       "      element.onload = on_load;\n",
       "      element.onerror = on_error;\n",
       "      element.async = false;\n",
       "      element.src = url;\n",
       "      console.debug(\"Bokeh: injecting script tag for BokehJS library: \", url);\n",
       "      document.head.appendChild(element);\n",
       "    }\n",
       "  };var element = document.getElementById(\"1001\");\n",
       "  if (element == null) {\n",
       "    console.error(\"Bokeh: ERROR: autoload.js configured with elementid '1001' but no matching script tag was found. \")\n",
       "    return false;\n",
       "  }\n",
       "\n",
       "  function inject_raw_css(css) {\n",
       "    const element = document.createElement(\"style\");\n",
       "    element.appendChild(document.createTextNode(css));\n",
       "    document.body.appendChild(element);\n",
       "  }\n",
       "\n",
       "  \n",
       "  var js_urls = [\"https://cdn.pydata.org/bokeh/release/bokeh-1.4.0.min.js\", \"https://cdn.pydata.org/bokeh/release/bokeh-widgets-1.4.0.min.js\", \"https://cdn.pydata.org/bokeh/release/bokeh-tables-1.4.0.min.js\", \"https://cdn.pydata.org/bokeh/release/bokeh-gl-1.4.0.min.js\"];\n",
       "  var css_urls = [];\n",
       "  \n",
       "\n",
       "  var inline_js = [\n",
       "    function(Bokeh) {\n",
       "      Bokeh.set_log_level(\"info\");\n",
       "    },\n",
       "    function(Bokeh) {\n",
       "    \n",
       "    \n",
       "    }\n",
       "  ];\n",
       "\n",
       "  function run_inline_js() {\n",
       "    \n",
       "    if (root.Bokeh !== undefined || force === true) {\n",
       "      \n",
       "    for (var i = 0; i < inline_js.length; i++) {\n",
       "      inline_js[i].call(root, root.Bokeh);\n",
       "    }\n",
       "    if (force === true) {\n",
       "        display_loaded();\n",
       "      }} else if (Date.now() < root._bokeh_timeout) {\n",
       "      setTimeout(run_inline_js, 100);\n",
       "    } else if (!root._bokeh_failed_load) {\n",
       "      console.log(\"Bokeh: BokehJS failed to load within specified timeout.\");\n",
       "      root._bokeh_failed_load = true;\n",
       "    } else if (force !== true) {\n",
       "      var cell = $(document.getElementById(\"1001\")).parents('.cell').data().cell;\n",
       "      cell.output_area.append_execute_result(NB_LOAD_WARNING)\n",
       "    }\n",
       "\n",
       "  }\n",
       "\n",
       "  if (root._bokeh_is_loading === 0) {\n",
       "    console.debug(\"Bokeh: BokehJS loaded, going straight to plotting\");\n",
       "    run_inline_js();\n",
       "  } else {\n",
       "    load_libs(css_urls, js_urls, function() {\n",
       "      console.debug(\"Bokeh: BokehJS plotting callback run at\", now());\n",
       "      run_inline_js();\n",
       "    });\n",
       "  }\n",
       "}(window));"
      ],
      "application/vnd.bokehjs_load.v0+json": "\n(function(root) {\n  function now() {\n    return new Date();\n  }\n\n  var force = true;\n\n  if (typeof root._bokeh_onload_callbacks === \"undefined\" || force === true) {\n    root._bokeh_onload_callbacks = [];\n    root._bokeh_is_loading = undefined;\n  }\n\n  \n\n  \n  if (typeof (root._bokeh_timeout) === \"undefined\" || force === true) {\n    root._bokeh_timeout = Date.now() + 5000;\n    root._bokeh_failed_load = false;\n  }\n\n  var NB_LOAD_WARNING = {'data': {'text/html':\n     \"<div style='background-color: #fdd'>\\n\"+\n     \"<p>\\n\"+\n     \"BokehJS does not appear to have successfully loaded. If loading BokehJS from CDN, this \\n\"+\n     \"may be due to a slow or bad network connection. Possible fixes:\\n\"+\n     \"</p>\\n\"+\n     \"<ul>\\n\"+\n     \"<li>re-rerun `output_notebook()` to attempt to load from CDN again, or</li>\\n\"+\n     \"<li>use INLINE resources instead, as so:</li>\\n\"+\n     \"</ul>\\n\"+\n     \"<code>\\n\"+\n     \"from bokeh.resources import INLINE\\n\"+\n     \"output_notebook(resources=INLINE)\\n\"+\n     \"</code>\\n\"+\n     \"</div>\"}};\n\n  function display_loaded() {\n    var el = document.getElementById(\"1001\");\n    if (el != null) {\n      el.textContent = \"BokehJS is loading...\";\n    }\n    if (root.Bokeh !== undefined) {\n      if (el != null) {\n        el.textContent = \"BokehJS \" + root.Bokeh.version + \" successfully loaded.\";\n      }\n    } else if (Date.now() < root._bokeh_timeout) {\n      setTimeout(display_loaded, 100)\n    }\n  }\n\n\n  function run_callbacks() {\n    try {\n      root._bokeh_onload_callbacks.forEach(function(callback) {\n        if (callback != null)\n          callback();\n      });\n    } finally {\n      delete root._bokeh_onload_callbacks\n    }\n    console.debug(\"Bokeh: all callbacks have finished\");\n  }\n\n  function load_libs(css_urls, js_urls, callback) {\n    if (css_urls == null) css_urls = [];\n    if (js_urls == null) js_urls = [];\n\n    root._bokeh_onload_callbacks.push(callback);\n    if (root._bokeh_is_loading > 0) {\n      console.debug(\"Bokeh: BokehJS is being loaded, scheduling callback at\", now());\n      return null;\n    }\n    if (js_urls == null || js_urls.length === 0) {\n      run_callbacks();\n      return null;\n    }\n    console.debug(\"Bokeh: BokehJS not loaded, scheduling load and callback at\", now());\n    root._bokeh_is_loading = css_urls.length + js_urls.length;\n\n    function on_load() {\n      root._bokeh_is_loading--;\n      if (root._bokeh_is_loading === 0) {\n        console.debug(\"Bokeh: all BokehJS libraries/stylesheets loaded\");\n        run_callbacks()\n      }\n    }\n\n    function on_error() {\n      console.error(\"failed to load \" + url);\n    }\n\n    for (var i = 0; i < css_urls.length; i++) {\n      var url = css_urls[i];\n      const element = document.createElement(\"link\");\n      element.onload = on_load;\n      element.onerror = on_error;\n      element.rel = \"stylesheet\";\n      element.type = \"text/css\";\n      element.href = url;\n      console.debug(\"Bokeh: injecting link tag for BokehJS stylesheet: \", url);\n      document.body.appendChild(element);\n    }\n\n    for (var i = 0; i < js_urls.length; i++) {\n      var url = js_urls[i];\n      var element = document.createElement('script');\n      element.onload = on_load;\n      element.onerror = on_error;\n      element.async = false;\n      element.src = url;\n      console.debug(\"Bokeh: injecting script tag for BokehJS library: \", url);\n      document.head.appendChild(element);\n    }\n  };var element = document.getElementById(\"1001\");\n  if (element == null) {\n    console.error(\"Bokeh: ERROR: autoload.js configured with elementid '1001' but no matching script tag was found. \")\n    return false;\n  }\n\n  function inject_raw_css(css) {\n    const element = document.createElement(\"style\");\n    element.appendChild(document.createTextNode(css));\n    document.body.appendChild(element);\n  }\n\n  \n  var js_urls = [\"https://cdn.pydata.org/bokeh/release/bokeh-1.4.0.min.js\", \"https://cdn.pydata.org/bokeh/release/bokeh-widgets-1.4.0.min.js\", \"https://cdn.pydata.org/bokeh/release/bokeh-tables-1.4.0.min.js\", \"https://cdn.pydata.org/bokeh/release/bokeh-gl-1.4.0.min.js\"];\n  var css_urls = [];\n  \n\n  var inline_js = [\n    function(Bokeh) {\n      Bokeh.set_log_level(\"info\");\n    },\n    function(Bokeh) {\n    \n    \n    }\n  ];\n\n  function run_inline_js() {\n    \n    if (root.Bokeh !== undefined || force === true) {\n      \n    for (var i = 0; i < inline_js.length; i++) {\n      inline_js[i].call(root, root.Bokeh);\n    }\n    if (force === true) {\n        display_loaded();\n      }} else if (Date.now() < root._bokeh_timeout) {\n      setTimeout(run_inline_js, 100);\n    } else if (!root._bokeh_failed_load) {\n      console.log(\"Bokeh: BokehJS failed to load within specified timeout.\");\n      root._bokeh_failed_load = true;\n    } else if (force !== true) {\n      var cell = $(document.getElementById(\"1001\")).parents('.cell').data().cell;\n      cell.output_area.append_execute_result(NB_LOAD_WARNING)\n    }\n\n  }\n\n  if (root._bokeh_is_loading === 0) {\n    console.debug(\"Bokeh: BokehJS loaded, going straight to plotting\");\n    run_inline_js();\n  } else {\n    load_libs(css_urls, js_urls, function() {\n      console.debug(\"Bokeh: BokehJS plotting callback run at\", now());\n      run_inline_js();\n    });\n  }\n}(window));"
     },
     "metadata": {},
     "output_type": "display_data"
    }
   ],
   "source": [
    "from bokeh.io import output_notebook\n",
    "\n",
    "data = pd.DataFrame(\n",
    "    {\"algorithms\": classification_algos_name, \"accuracy_score\": accuracy_score_list}\n",
    ")\n",
    "data[\"color\"] = [\n",
    "    \"#440154\",\n",
    "    \"#404387\",\n",
    "    \"#29788E\",\n",
    "    \"#22A784\",\n",
    "    \"#79D151\",\n",
    "    \"#FDE724\",\n",
    "    \"#30678D\",\n",
    "    \"#084594\",\n",
    "    \"#2171b5\",\n",
    "    \"#4292c6\",\n",
    "    \"#9ecae1\",\n",
    "]\n",
    "output_notebook()"
   ]
  },
  {
   "cell_type": "code",
   "execution_count": 31,
   "metadata": {},
   "outputs": [
    {
     "data": {
      "text/html": [
       "\n",
       "\n",
       "\n",
       "\n",
       "\n",
       "\n",
       "  <div class=\"bk-root\" id=\"28689ae5-6c4b-4b22-b43c-4eab03e0f075\" data-root-id=\"1003\"></div>\n"
      ]
     },
     "metadata": {},
     "output_type": "display_data"
    },
    {
     "data": {
      "application/javascript": [
       "(function(root) {\n",
       "  function embed_document(root) {\n",
       "    \n",
       "  var docs_json = {\"ce2926de-0d6a-4e73-ba5d-133534262de2\":{\"roots\":{\"references\":[{\"attributes\":{\"below\":[{\"id\":\"1014\",\"type\":\"CategoricalAxis\"}],\"center\":[{\"id\":\"1017\",\"type\":\"Grid\"},{\"id\":\"1022\",\"type\":\"Grid\"}],\"left\":[{\"id\":\"1018\",\"type\":\"LinearAxis\"}],\"plot_height\":300,\"plot_width\":400,\"renderers\":[{\"id\":\"1029\",\"type\":\"GlyphRenderer\"}],\"title\":{\"id\":\"1004\",\"type\":\"Title\"},\"toolbar\":{\"id\":\"1024\",\"type\":\"Toolbar\"},\"x_range\":{\"id\":\"1006\",\"type\":\"FactorRange\"},\"x_scale\":{\"id\":\"1010\",\"type\":\"CategoricalScale\"},\"y_range\":{\"id\":\"1008\",\"type\":\"Range1d\"},\"y_scale\":{\"id\":\"1012\",\"type\":\"LinearScale\"}},\"id\":\"1003\",\"subtype\":\"Figure\",\"type\":\"Plot\"},{\"attributes\":{},\"id\":\"1036\",\"type\":\"UnionRenderers\"},{\"attributes\":{},\"id\":\"1019\",\"type\":\"BasicTicker\"},{\"attributes\":{},\"id\":\"1037\",\"type\":\"Selection\"},{\"attributes\":{\"dimension\":1,\"ticker\":{\"id\":\"1019\",\"type\":\"BasicTicker\"}},\"id\":\"1022\",\"type\":\"Grid\"},{\"attributes\":{\"callback\":null,\"data\":{\"accuracy_score\":{\"__ndarray__\":\"4lnRSMA35z8ua3VM8GDmP8A3ryaeFeU/io0qYTGb5j9smzEukVrmPzJUdpi63OY/YQu2YAu26D9hC7ZgC7boPwnSAZiU9+g/9ihcj8L16D8kurYZ4xLpPw==\",\"dtype\":\"float64\",\"shape\":[11]},\"algorithms\":[\"KNeighborsClassifier\",\"GaussianNB\",\"MultinomialNB\",\"DecisionTreeClassifier\",\"ExtraTreeClassifier\",\"LinearDiscriminantAnalysis\",\"RandomForestClassifier\",\"AdaBoostClassifier\",\"GradientBoostingClassifier\",\"XGBClassifier\",\"LGBMClassifier\"],\"color\":[\"#440154\",\"#404387\",\"#29788E\",\"#22A784\",\"#79D151\",\"#FDE724\",\"#30678D\",\"#084594\",\"#2171b5\",\"#4292c6\",\"#9ecae1\"],\"index\":[0,1,2,3,4,5,6,7,8,9,10]},\"selected\":{\"id\":\"1037\",\"type\":\"Selection\"},\"selection_policy\":{\"id\":\"1036\",\"type\":\"UnionRenderers\"}},\"id\":\"1002\",\"type\":\"ColumnDataSource\"},{\"attributes\":{\"fill_color\":{\"field\":\"color\"},\"line_color\":{\"field\":\"color\"},\"top\":{\"field\":\"accuracy_score\"},\"width\":{\"value\":0.95},\"x\":{\"field\":\"algorithms\"}},\"id\":\"1027\",\"type\":\"VBar\"},{\"attributes\":{\"callback\":null,\"factors\":[\"KNeighborsClassifier\",\"GaussianNB\",\"MultinomialNB\",\"DecisionTreeClassifier\",\"ExtraTreeClassifier\",\"LinearDiscriminantAnalysis\",\"RandomForestClassifier\",\"AdaBoostClassifier\",\"GradientBoostingClassifier\",\"XGBClassifier\",\"LGBMClassifier\"]},\"id\":\"1006\",\"type\":\"FactorRange\"},{\"attributes\":{\"data_source\":{\"id\":\"1002\",\"type\":\"ColumnDataSource\"},\"glyph\":{\"id\":\"1027\",\"type\":\"VBar\"},\"hover_glyph\":null,\"muted_glyph\":null,\"nonselection_glyph\":{\"id\":\"1028\",\"type\":\"VBar\"},\"selection_glyph\":null,\"view\":{\"id\":\"1030\",\"type\":\"CDSView\"}},\"id\":\"1029\",\"type\":\"GlyphRenderer\"},{\"attributes\":{\"callback\":null,\"end\":0.8,\"start\":0.6},\"id\":\"1008\",\"type\":\"Range1d\"},{\"attributes\":{\"callback\":null,\"tooltips\":\"@algorithms: @accuracy_score\"},\"id\":\"1023\",\"type\":\"HoverTool\"},{\"attributes\":{\"active_drag\":\"auto\",\"active_inspect\":\"auto\",\"active_multi\":null,\"active_scroll\":\"auto\",\"active_tap\":\"auto\",\"tools\":[{\"id\":\"1023\",\"type\":\"HoverTool\"}]},\"id\":\"1024\",\"type\":\"Toolbar\"},{\"attributes\":{},\"id\":\"1010\",\"type\":\"CategoricalScale\"},{\"attributes\":{\"text\":\"Comparison\"},\"id\":\"1004\",\"type\":\"Title\"},{\"attributes\":{},\"id\":\"1012\",\"type\":\"LinearScale\"},{\"attributes\":{\"formatter\":{\"id\":\"1035\",\"type\":\"CategoricalTickFormatter\"},\"major_label_orientation\":120,\"ticker\":{\"id\":\"1015\",\"type\":\"CategoricalTicker\"}},\"id\":\"1014\",\"type\":\"CategoricalAxis\"},{\"attributes\":{},\"id\":\"1015\",\"type\":\"CategoricalTicker\"},{\"attributes\":{\"source\":{\"id\":\"1002\",\"type\":\"ColumnDataSource\"}},\"id\":\"1030\",\"type\":\"CDSView\"},{\"attributes\":{\"grid_line_color\":null,\"ticker\":{\"id\":\"1015\",\"type\":\"CategoricalTicker\"}},\"id\":\"1017\",\"type\":\"Grid\"},{\"attributes\":{},\"id\":\"1033\",\"type\":\"BasicTickFormatter\"},{\"attributes\":{\"fill_alpha\":{\"value\":0.1},\"fill_color\":{\"value\":\"#1f77b4\"},\"line_alpha\":{\"value\":0.1},\"line_color\":{\"value\":\"#1f77b4\"},\"top\":{\"field\":\"accuracy_score\"},\"width\":{\"value\":0.95},\"x\":{\"field\":\"algorithms\"}},\"id\":\"1028\",\"type\":\"VBar\"},{\"attributes\":{\"formatter\":{\"id\":\"1033\",\"type\":\"BasicTickFormatter\"},\"ticker\":{\"id\":\"1019\",\"type\":\"BasicTicker\"}},\"id\":\"1018\",\"type\":\"LinearAxis\"},{\"attributes\":{},\"id\":\"1035\",\"type\":\"CategoricalTickFormatter\"}],\"root_ids\":[\"1003\"]},\"title\":\"Bokeh Application\",\"version\":\"1.4.0\"}};\n",
       "  var render_items = [{\"docid\":\"ce2926de-0d6a-4e73-ba5d-133534262de2\",\"roots\":{\"1003\":\"28689ae5-6c4b-4b22-b43c-4eab03e0f075\"}}];\n",
       "  root.Bokeh.embed.embed_items_notebook(docs_json, render_items);\n",
       "\n",
       "  }\n",
       "  if (root.Bokeh !== undefined) {\n",
       "    embed_document(root);\n",
       "  } else {\n",
       "    var attempts = 0;\n",
       "    var timer = setInterval(function(root) {\n",
       "      if (root.Bokeh !== undefined) {\n",
       "        clearInterval(timer);\n",
       "        embed_document(root);\n",
       "      } else {\n",
       "        attempts++;\n",
       "        if (attempts > 100) {\n",
       "          clearInterval(timer);\n",
       "          console.log(\"Bokeh: ERROR: Unable to run BokehJS code because BokehJS library is missing\");\n",
       "        }\n",
       "      }\n",
       "    }, 10, root)\n",
       "  }\n",
       "})(window);"
      ],
      "application/vnd.bokehjs_exec.v0+json": ""
     },
     "metadata": {
      "application/vnd.bokehjs_exec.v0+json": {
       "id": "1003"
      }
     },
     "output_type": "display_data"
    }
   ],
   "source": [
    "from bokeh.io import show, output_file\n",
    "from bokeh.models import ColumnDataSource, FactorRange\n",
    "from bokeh.plotting import figure\n",
    "from bokeh.palettes import Spectral6\n",
    "from bokeh.transform import factor_cmap\n",
    "\n",
    "source = ColumnDataSource(data=data)\n",
    "\n",
    "p = figure(\n",
    "    x_range=data[\"algorithms\"],\n",
    "    y_range=(0.6, 0.8),\n",
    "    plot_width=400,\n",
    "    plot_height=300,\n",
    "    title=\"Comparison\",\n",
    "    tools=\"hover\",\n",
    "    tooltips=\"@algorithms: @accuracy_score\",\n",
    ")\n",
    "p.vbar(x=\"algorithms\", top=\"accuracy_score\", color=\"color\", width=0.95, source=source)\n",
    "\n",
    "p.xgrid.grid_line_color = None\n",
    "p.xaxis.major_label_orientation = 120\n",
    "show(p)"
   ]
  },
  {
   "cell_type": "code",
   "execution_count": 32,
   "metadata": {},
   "outputs": [
    {
     "data": {
      "image/png": "[encoded data removed]",
      "text/plain": [
       "<Figure size 1080x360 with 1 Axes>"
      ]
     },
     "metadata": {},
     "output_type": "display_data"
    }
   ],
   "source": [
    "def feat_imp(df, model, n_features):\n",
    "    d = dict(zip(df.columns, model.feature_importances_))\n",
    "    ss = sorted(d, key=d.get, reverse=True)\n",
    "    top_names = ss[0:n_features]\n",
    "    plt.figure(figsize=(15, 5))\n",
    "    plt.title(\"Feature importances\")\n",
    "    plt.bar(range(n_features), [d[i] for i in top_names], color=\"r\", align=\"center\")\n",
    "    plt.xlim(-1, n_features)\n",
    "    plt.xticks(range(n_features), top_names, rotation=\"vertical\")\n",
    "\n",
    "feat_imp(X_train, model, 15)"
   ]
  },
  {
   "cell_type": "code",
   "execution_count": 33,
   "metadata": {},
   "outputs": [
    {
     "name": "stdout",
     "output_type": "stream",
     "text": [
      "LGBM's cv binary_error: 20.94%\n"
     ]
    }
   ],
   "source": [
    "import lightgbm as lgb\n",
    "\n",
    "params = {\n",
    "    \"task\": \"train\",\n",
    "    \"boosting_type\": \"gbdt\",\n",
    "    \"objective\": \"binary\",\n",
    "    \"learning_rate\": 0.01,\n",
    "    \"metric\": [\"binary_error\"],\n",
    "}\n",
    "data_all = lgb.Dataset(X_train, y_train)\n",
    "\n",
    "results = lgb.cv(\n",
    "    params,\n",
    "    train_set=data_all,\n",
    "    nfold=5,\n",
    "    seed=10,\n",
    "    stratified=True,\n",
    "    num_boost_round=1000\n",
    ")\n",
    "\n",
    "print(f'LGBM\\'s cv binary_error: {results[\"binary_error-mean\"][-1]:.2%}')"
   ]
  },
  {
   "cell_type": "code",
   "execution_count": 34,
   "metadata": {
    "scrolled": true
   },
   "outputs": [
    {
     "name": "stdout",
     "output_type": "stream",
     "text": [
      "100%|████████████████████████████████████████████████| 500/500 [29:41<00:00,  3.56s/it, best loss: -0.8454851813239475]\n",
      "\n",
      "Hyperopt estimated optimum  {'colsample_bytree': 0.7000000000000001, 'learning_rate': 0.01, 'n_estimators': 300, 'num_leaves': 40, 'reg_alpha': 0.2, 'reg_lambda': 0.2, 'subsample': 1.0}\n",
      "\n",
      "\n"
     ]
    }
   ],
   "source": [
    "def lgbm_hyperopt(X_vaild, y_valid):\n",
    "    from hyperopt.pyll.base import scope\n",
    "    from hyperopt import hp, tpe, Trials, space_eval\n",
    "    from hyperopt.fmin import fmin\n",
    "    from sklearn.model_selection import (\n",
    "        cross_val_score,\n",
    "        StratifiedKFold,\n",
    "        train_test_split,\n",
    "    )\n",
    "    from sklearn.preprocessing import MinMaxScaler\n",
    "\n",
    "    Y_valid = np.array(y_valid)\n",
    "    Y_valid = Y_valid.ravel()\n",
    "\n",
    "    def objective(params):\n",
    "        params = {\n",
    "            \"n_estimators\": int(params[\"n_estimators\"]),\n",
    "            \"learning_rate\": params[\"learning_rate\"],\n",
    "            \"num_leaves\": int(params[\"num_leaves\"]),\n",
    "            \"subsample\": round(params[\"subsample\"], 2),\n",
    "            \"colsample_bytree\": round(params[\"colsample_bytree\"], 2),\n",
    "            \"reg_alpha\": round(params[\"reg_alpha\"], 2),\n",
    "            \"reg_lambda\": round(params[\"reg_lambda\"], 2),\n",
    "        }\n",
    "        clf = lgb.LGBMClassifier(\n",
    "            objective=\"binary\",\n",
    "            boosting_type=\"gbdt\",  # dart for better accuracy (slow) 'gbdt'\n",
    "            max_depth=-1,  # max depth, shallower trees reduce overfitting.\n",
    "            max_bin=500,  # maximum number of bins to bucket feature values in\n",
    "            subsample_freq=15,\n",
    "            silent=False,\n",
    "            metrics=\"None\",\n",
    "            verbose=1,\n",
    "            n_jobs=-1,\n",
    "            **params,\n",
    "        )\n",
    "        score = cross_val_score(clf, X_vaild, Y_valid, scoring='roc_auc', cv=StratifiedKFold(n_splits=3)).mean()\n",
    "#         print(\"Score: {:.3f} params {}\".format(score, params))\n",
    "        return {\"loss\": -score, \"status\": \"ok\", \"model\": model}\n",
    "\n",
    "    space = {\n",
    "        \"n_estimators\": hp.uniformint(\"n_estimators\", 30, 300),\n",
    "        \"learning_rate\": scope.float(hp.choice(\"learning_rate\", [0.1, 0.01, 0.001])),\n",
    "        \"num_leaves\": scope.int(hp.quniform(\"num_leaves\", 30, 300, 10)),\n",
    "        \"subsample\": hp.quniform(\n",
    "        \"subsample\", 0.7, 1, 0.05),  # fraction of training rows used in each tree\n",
    "        \"colsample_bytree\": hp.quniform(\"colsample_bytree\", 0.7, 1, 0.05),\n",
    "        \"reg_alpha\": hp.quniform(\"reg_alpha\", 0, 0.2, 0.05),\n",
    "        \"reg_lambda\": hp.quniform(\"reg_lambda\", 0, 0.2, 0.05),\n",
    "    }\n",
    "    trials = Trials()  # for logging\n",
    "    algo = tpe.suggest  # Tree of Parzen Estimators (a \"Bayesian\" method)\n",
    "    best = fmin(\n",
    "        fn=objective,\n",
    "        space=space,\n",
    "        algo=algo,  # optimization algorithm\n",
    "        trials=trials,  # logging\n",
    "        max_evals=500,\n",
    "    )\n",
    "    hyperparams = space_eval(space, best)  # fixes rounding on learning rate\n",
    "    save_obj(hyperparams, \"params\")  \n",
    "    bl()\n",
    "    print(f\"Hyperopt estimated optimum  {hyperparams}\")\n",
    "    bl(2)\n",
    "    return trials, best\n",
    "\n",
    "hyperparams, best = lgbm_hyperopt(X_valid, y_valid)"
   ]
  },
  {
   "cell_type": "code",
   "execution_count": 35,
   "metadata": {},
   "outputs": [
    {
     "name": "stdout",
     "output_type": "stream",
     "text": [
      "Best paramaters: {'colsample_bytree': 0.7000000000000001, 'learning_rate': 0.01, 'n_estimators': 300, 'num_leaves': 40, 'reg_alpha': 0.2, 'reg_lambda': 0.2, 'subsample': 1.0}\n",
      "\n",
      "\n",
      "LGBM validation final results:\n",
      "   Accuracy score: 77.98%\n",
      "   Roc_auc score:  75.32%\n",
      "\n",
      "\n"
     ]
    },
    {
     "data": {
      "image/png": "[encoded data removed]",
      "text/plain": [
       "<Figure size 432x288 with 2 Axes>"
      ]
     },
     "metadata": {},
     "output_type": "display_data"
    }
   ],
   "source": [
    "params = load_obj(\"params\")\n",
    "print(f\"Best paramaters: {params}\")\n",
    "bl()\n",
    "clf = LGBMClassifier(\n",
    "    objective=\"binary\",\n",
    "    boosting_type=\"gbdt\",\n",
    "    num_boosting_round=100,\n",
    "    max_depth=-1,\n",
    "    max_bin=500,\n",
    "    subsample_freq=15,\n",
    "    random_state=94,\n",
    "    metric='roc_auc',\n",
    "    verbose=0,\n",
    "    n_jobs=-1,\n",
    "    **params,\n",
    ")\n",
    "clf.fit(\n",
    "    X_train,\n",
    "    y_train,\n",
    "    categorical_feature=\"auto\",\n",
    "    verbose=-1,\n",
    ")\n",
    "\n",
    "y_pred = clf.predict(X_valid, num_iteration=clf.best_iteration_)\n",
    "bl()\n",
    "print(f\"LGBM validation final results:\")\n",
    "print(f\"   Accuracy score: {accuracy_score(y_valid, y_pred):.2%}\")\n",
    "print(f\"   Roc_auc score:  {roc_auc_score(y_valid, y_pred):.2%}\")\n",
    "bl()\n",
    "plot_cm(truth=y_valid, prediction=y_pred, cmap='Blues', font_scale=1.6)\n",
    "# plot_confusion_matrix(clf, X_valid, y_valid, normalize='true', values_format='.2f', cmap=plt.cm.Greens_r,)\n",
    "bl()\n"
   ]
  },
  {
   "cell_type": "code",
   "execution_count": 36,
   "metadata": {},
   "outputs": [
    {
     "name": "stdout",
     "output_type": "stream",
     "text": [
      "Best paramaters: {'colsample_bytree': 0.7000000000000001, 'learning_rate': 0.01, 'n_estimators': 300, 'num_leaves': 40, 'reg_alpha': 0.2, 'reg_lambda': 0.2, 'subsample': 1.0}\n",
      "\n",
      "\n",
      "\n",
      "LGBM test (holdout) final results: TN:2,738  FP:382  FN:673  TP:1,207  Total:5,000\n",
      "\n",
      "Accuracy score: 78.90%\n",
      "Roc_auc score:  75.98%\n",
      "\n",
      "\n"
     ]
    },
    {
     "data": {
      "image/png": "[encoded data removed]",
      "text/plain": [
       "<Figure size 432x288 with 2 Axes>"
      ]
     },
     "metadata": {},
     "output_type": "display_data"
    }
   ],
   "source": [
    "print(f\"Best paramaters: {params}\")\n",
    "bl()\n",
    "clf2 = LGBMClassifier(\n",
    "    objective=\"binary\",\n",
    "    boosting_type=\"gbdt\",\n",
    "    max_depth=-1,\n",
    "    max_bin=500,\n",
    "    subsample_freq=15,\n",
    "    random_state=94,\n",
    "    metric='roc_auc',\n",
    "    verbose=-1,\n",
    "    n_jobs=-1,\n",
    "    **params,\n",
    ")\n",
    "clf2.fit(\n",
    "    X_train_and_valid,\n",
    "    y_train_and_valid,\n",
    "    categorical_feature=\"auto\",\n",
    "    verbose=-1,\n",
    ")\n",
    "\n",
    "y_pred = clf2.predict(X_test, num_iteration=clf.best_iteration_)\n",
    "bl(2)\n",
    "\n",
    "cm = confusion_matrix(y_test, y_pred).ravel()\n",
    "print(\n",
    "    f\"LGBM test (holdout) final results: TN:{cm[0]:,}  FP:{cm[1]:,}  FN:{cm[2]:,}  TP:{cm[3]:,}  Total:{cm[1] + cm[2] + cm[3] + cm[0]:,}\"\n",
    ")\n",
    "bl()\n",
    "print(f\"Accuracy score: {accuracy_score(y_test, y_pred):.2%}\")\n",
    "print(f\"Roc_auc score:  {roc_auc_score(y_test, y_pred):.2%}\")\n",
    "bl()\n",
    "\n",
    "plot_cm(truth=y_test, prediction=y_pred, cmap='Blues', font_scale=1.6)\n",
    "bl()"
   ]
  }
 ],
 "metadata": {
  "kernelspec": {
   "display_name": "Python 3",
   "language": "python",
   "name": "python3"
  },
  "language_info": {
   "codemirror_mode": {
    "name": "ipython",
    "version": 3
   },
   "file_extension": ".py",
   "mimetype": "text/x-python",
   "name": "python",
   "nbconvert_exporter": "python",
   "pygments_lexer": "ipython3",
   "version": "3.6.10"
  }
 },
 "nbformat": 4,
 "nbformat_minor": 2
}
