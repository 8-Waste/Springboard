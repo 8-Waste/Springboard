{
 "cells": [
  {
   "cell_type": "markdown",
   "metadata": {},
   "source": [
    "****\n",
    "## JSON exercise\n",
    "\n",
    "Using data in file 'data/world_bank_projects.json' and the techniques demonstrated above,\n",
    "1. Find the 10 countries with most projects\n",
    "2. Find the top 10 major project themes (using column 'mjtheme_namecode')\n",
    "3. In 2. above you will notice that some entries have only the code and the name is missing. Create a dataframe with the missing names filled in."
   ]
  },
  {
   "cell_type": "markdown",
   "metadata": {},
   "source": [
    "## Notes:\n",
    "###  To conserve memory, this notebook reuses names and is meant to be executed all at once (Cell - Run All)"
   ]
  },
  {
   "cell_type": "markdown",
   "metadata": {},
   "source": [
    "## Imports"
   ]
  },
  {
   "cell_type": "code",
   "execution_count": 1,
   "metadata": {},
   "outputs": [],
   "source": [
    "import json\n",
    "from pandas.io.json import json_normalize\n",
    "import pandas as pd\n",
    "import numpy as np\n",
    "from matplotlib import pyplot as plt"
   ]
  },
  {
   "cell_type": "code",
   "execution_count": 2,
   "metadata": {},
   "outputs": [],
   "source": [
    "%matplotlib inline"
   ]
  },
  {
   "cell_type": "markdown",
   "metadata": {},
   "source": [
    "## Load data"
   ]
  },
  {
   "cell_type": "code",
   "execution_count": 3,
   "metadata": {},
   "outputs": [],
   "source": [
    "#preprocessing - read in json dataset for all exercises\n",
    "\n",
    "#read in entire json dataset as a list\n",
    "data = json.load((open('data/world_bank_projects.json')))"
   ]
  },
  {
   "cell_type": "markdown",
   "metadata": {},
   "source": [
    "## Exercise #1: \n",
    "### Find the 10 countries with most projects\n"
   ]
  },
  {
   "cell_type": "code",
   "execution_count": 4,
   "metadata": {},
   "outputs": [
    {
     "data": {
      "text/html": [
       "<div>\n",
       "<style scoped>\n",
       "    .dataframe tbody tr th:only-of-type {\n",
       "        vertical-align: middle;\n",
       "    }\n",
       "\n",
       "    .dataframe tbody tr th {\n",
       "        vertical-align: top;\n",
       "    }\n",
       "\n",
       "    .dataframe thead th {\n",
       "        text-align: right;\n",
       "    }\n",
       "</style>\n",
       "<table border=\"1\" class=\"dataframe\">\n",
       "  <thead>\n",
       "    <tr style=\"text-align: right;\">\n",
       "      <th></th>\n",
       "      <th>Project Count</th>\n",
       "    </tr>\n",
       "    <tr>\n",
       "      <th>Country</th>\n",
       "      <th></th>\n",
       "    </tr>\n",
       "  </thead>\n",
       "  <tbody>\n",
       "    <tr>\n",
       "      <th>People's Republic of China</th>\n",
       "      <td>19</td>\n",
       "    </tr>\n",
       "    <tr>\n",
       "      <th>Republic of Indonesia</th>\n",
       "      <td>19</td>\n",
       "    </tr>\n",
       "    <tr>\n",
       "      <th>Socialist Republic of Vietnam</th>\n",
       "      <td>17</td>\n",
       "    </tr>\n",
       "    <tr>\n",
       "      <th>Republic of India</th>\n",
       "      <td>16</td>\n",
       "    </tr>\n",
       "    <tr>\n",
       "      <th>Republic of Yemen</th>\n",
       "      <td>13</td>\n",
       "    </tr>\n",
       "    <tr>\n",
       "      <th>People's Republic of Bangladesh</th>\n",
       "      <td>12</td>\n",
       "    </tr>\n",
       "    <tr>\n",
       "      <th>Nepal</th>\n",
       "      <td>12</td>\n",
       "    </tr>\n",
       "    <tr>\n",
       "      <th>Kingdom of Morocco</th>\n",
       "      <td>12</td>\n",
       "    </tr>\n",
       "    <tr>\n",
       "      <th>Republic of Mozambique</th>\n",
       "      <td>11</td>\n",
       "    </tr>\n",
       "    <tr>\n",
       "      <th>Africa</th>\n",
       "      <td>11</td>\n",
       "    </tr>\n",
       "  </tbody>\n",
       "</table>\n",
       "</div>"
      ],
      "text/plain": [
       "                                 Project Count\n",
       "Country                                       \n",
       "People's Republic of China                  19\n",
       "Republic of Indonesia                       19\n",
       "Socialist Republic of Vietnam               17\n",
       "Republic of India                           16\n",
       "Republic of Yemen                           13\n",
       "People's Republic of Bangladesh             12\n",
       "Nepal                                       12\n",
       "Kingdom of Morocco                          12\n",
       "Republic of Mozambique                      11\n",
       "Africa                                      11"
      ]
     },
     "execution_count": 4,
     "metadata": {},
     "output_type": "execute_result"
    }
   ],
   "source": [
    "#extract necessary fields from data list for exercise 1\n",
    "df = json_normalize(data, '_id', [['project_name'],['countrycode'],['countryname']])\n",
    "\n",
    "#total projects by country name and sort descending\n",
    "df = df.groupby(by=['countryname']).agg({'project_name':pd.Series.nunique}).sort_values('project_name', ascending=False).head(10)\n",
    "\n",
    "#rename column for better / easier presentation\n",
    "df.rename(index={1:'Country'},  columns={'project_name':'Project Count'}, inplace=True)\n",
    "df.rename_axis('Country', inplace=True)\n",
    "\n",
    "#show the 10 countries wiht the most projects\n",
    "df"
   ]
  },
  {
   "cell_type": "code",
   "execution_count": 5,
   "metadata": {
    "scrolled": false
   },
   "outputs": [
    {
     "data": {
      "text/plain": [
       "Text(0.5, 1.0, '10 Countries with the Most Projects')"
      ]
     },
     "execution_count": 5,
     "metadata": {},
     "output_type": "execute_result"
    },
    {
     "data": {
      "image/png": "[encoded data removed]",
      "text/plain": [
       "<Figure size 432x288 with 1 Axes>"
      ]
     },
     "metadata": {
      "needs_background": "light"
     },
     "output_type": "display_data"
    }
   ],
   "source": [
    "#graph results\n",
    "ax = df.plot(kind='barh', legend=False, xticks=[0,5,10,15,20])\n",
    "ax.set_xlabel('Total Projects')\n",
    "ax.set_title('10 Countries with the Most Projects')"
   ]
  },
  {
   "cell_type": "markdown",
   "metadata": {},
   "source": [
    "## Exercise #2: \n",
    "### Find the top 10 major project themes (using column 'mjtheme_namecode')"
   ]
  },
  {
   "cell_type": "code",
   "execution_count": 6,
   "metadata": {},
   "outputs": [
    {
     "data": {
      "text/html": [
       "<div>\n",
       "<style scoped>\n",
       "    .dataframe tbody tr th:only-of-type {\n",
       "        vertical-align: middle;\n",
       "    }\n",
       "\n",
       "    .dataframe tbody tr th {\n",
       "        vertical-align: top;\n",
       "    }\n",
       "\n",
       "    .dataframe thead th {\n",
       "        text-align: right;\n",
       "    }\n",
       "</style>\n",
       "<table border=\"1\" class=\"dataframe\">\n",
       "  <thead>\n",
       "    <tr style=\"text-align: right;\">\n",
       "      <th></th>\n",
       "      <th>Count of Project Theme</th>\n",
       "    </tr>\n",
       "    <tr>\n",
       "      <th>name</th>\n",
       "      <th></th>\n",
       "    </tr>\n",
       "  </thead>\n",
       "  <tbody>\n",
       "    <tr>\n",
       "      <th>Environment and natural resources management</th>\n",
       "      <td>223</td>\n",
       "    </tr>\n",
       "    <tr>\n",
       "      <th>Rural development</th>\n",
       "      <td>202</td>\n",
       "    </tr>\n",
       "    <tr>\n",
       "      <th>Human development</th>\n",
       "      <td>197</td>\n",
       "    </tr>\n",
       "    <tr>\n",
       "      <th>Public sector governance</th>\n",
       "      <td>184</td>\n",
       "    </tr>\n",
       "    <tr>\n",
       "      <th>Social protection and risk management</th>\n",
       "      <td>158</td>\n",
       "    </tr>\n",
       "    <tr>\n",
       "      <th>Financial and private sector development</th>\n",
       "      <td>130</td>\n",
       "    </tr>\n",
       "    <tr>\n",
       "      <th>Social dev/gender/inclusion</th>\n",
       "      <td>119</td>\n",
       "    </tr>\n",
       "    <tr>\n",
       "      <th>Trade and integration</th>\n",
       "      <td>72</td>\n",
       "    </tr>\n",
       "    <tr>\n",
       "      <th>Urban development</th>\n",
       "      <td>47</td>\n",
       "    </tr>\n",
       "    <tr>\n",
       "      <th>Economic management</th>\n",
       "      <td>33</td>\n",
       "    </tr>\n",
       "  </tbody>\n",
       "</table>\n",
       "</div>"
      ],
      "text/plain": [
       "                                              Count of Project Theme\n",
       "name                                                                \n",
       "Environment and natural resources management                     223\n",
       "Rural development                                                202\n",
       "Human development                                                197\n",
       "Public sector governance                                         184\n",
       "Social protection and risk management                            158\n",
       "Financial and private sector development                         130\n",
       "Social dev/gender/inclusion                                      119\n",
       "Trade and integration                                             72\n",
       "Urban development                                                 47\n",
       "Economic management                                               33"
      ]
     },
     "execution_count": 6,
     "metadata": {},
     "output_type": "execute_result"
    }
   ],
   "source": [
    "#extract necessary fields from data list for exercise 2\n",
    "df = json_normalize(data, 'mjtheme_namecode')\n",
    "\n",
    "#replace blank name fields with NaN, drop columns w/o names (normally I would populate the names  but that is part of question #3)\n",
    "df['name'].replace('', np.nan, inplace=True)\n",
    "df.dropna(inplace=True, how='any')\n",
    "\n",
    "#group by code, name and get size (count)\n",
    "df = df.groupby(['code', 'name']).size().sort_values(ascending=False).head(10).to_frame()\n",
    "\n",
    "#rename columns to make presentation easier\n",
    "df.rename(columns={df.columns[0]:'Count of Project Theme'}, inplace=True)\n",
    "\n",
    "#housekeeping\n",
    "df.reset_index(inplace=True)\n",
    "df.set_index('name', inplace=True)\n",
    "del df['code']\n",
    "\n",
    "df"
   ]
  },
  {
   "cell_type": "code",
   "execution_count": 7,
   "metadata": {},
   "outputs": [
    {
     "data": {
      "text/plain": [
       "Text(0.5, 1.0, 'Total Projects by Theme')"
      ]
     },
     "execution_count": 7,
     "metadata": {},
     "output_type": "execute_result"
    },
    {
     "data": {
      "image/png": "[encoded data removed]",
      "text/plain": [
       "<Figure size 432x288 with 1 Axes>"
      ]
     },
     "metadata": {
      "needs_background": "light"
     },
     "output_type": "display_data"
    }
   ],
   "source": [
    "#graph results\n",
    "ax = df.plot(kind='barh', legend=False)\n",
    "ax.set_xlabel('Total Projects')\n",
    "ax.set_ylabel('Project Theme')\n",
    "ax.set_title('Total Projects by Theme')"
   ]
  },
  {
   "cell_type": "markdown",
   "metadata": {},
   "source": [
    "## Exercise #3: \n",
    "## In 2. above you will notice that some entries have only the code and the name is missing. Create a dataframe with the missing names filled in."
   ]
  },
  {
   "cell_type": "code",
   "execution_count": 8,
   "metadata": {},
   "outputs": [
    {
     "data": {
      "text/html": [
       "<div>\n",
       "<style scoped>\n",
       "    .dataframe tbody tr th:only-of-type {\n",
       "        vertical-align: middle;\n",
       "    }\n",
       "\n",
       "    .dataframe tbody tr th {\n",
       "        vertical-align: top;\n",
       "    }\n",
       "\n",
       "    .dataframe thead th {\n",
       "        text-align: right;\n",
       "    }\n",
       "</style>\n",
       "<table border=\"1\" class=\"dataframe\">\n",
       "  <thead>\n",
       "    <tr style=\"text-align: right;\">\n",
       "      <th></th>\n",
       "      <th>code</th>\n",
       "      <th>name</th>\n",
       "    </tr>\n",
       "  </thead>\n",
       "  <tbody>\n",
       "    <tr>\n",
       "      <th>0</th>\n",
       "      <td>8</td>\n",
       "      <td>Human development</td>\n",
       "    </tr>\n",
       "    <tr>\n",
       "      <th>1</th>\n",
       "      <td>11</td>\n",
       "      <td>Environment and natural resources management</td>\n",
       "    </tr>\n",
       "    <tr>\n",
       "      <th>2</th>\n",
       "      <td>1</td>\n",
       "      <td>Economic management</td>\n",
       "    </tr>\n",
       "    <tr>\n",
       "      <th>3</th>\n",
       "      <td>6</td>\n",
       "      <td>Social protection and risk management</td>\n",
       "    </tr>\n",
       "    <tr>\n",
       "      <th>4</th>\n",
       "      <td>5</td>\n",
       "      <td>Trade and integration</td>\n",
       "    </tr>\n",
       "    <tr>\n",
       "      <th>5</th>\n",
       "      <td>2</td>\n",
       "      <td>Public sector governance</td>\n",
       "    </tr>\n",
       "    <tr>\n",
       "      <th>6</th>\n",
       "      <td>11</td>\n",
       "      <td>Environment and natural resources management</td>\n",
       "    </tr>\n",
       "    <tr>\n",
       "      <th>7</th>\n",
       "      <td>6</td>\n",
       "      <td>Social protection and risk management</td>\n",
       "    </tr>\n",
       "    <tr>\n",
       "      <th>8</th>\n",
       "      <td>7</td>\n",
       "      <td>Social dev/gender/inclusion</td>\n",
       "    </tr>\n",
       "    <tr>\n",
       "      <th>9</th>\n",
       "      <td>7</td>\n",
       "      <td>Social dev/gender/inclusion</td>\n",
       "    </tr>\n",
       "  </tbody>\n",
       "</table>\n",
       "</div>"
      ],
      "text/plain": [
       "   code                                          name\n",
       "0     8                             Human development\n",
       "1    11  Environment and natural resources management\n",
       "2     1                           Economic management\n",
       "3     6         Social protection and risk management\n",
       "4     5                         Trade and integration\n",
       "5     2                      Public sector governance\n",
       "6    11  Environment and natural resources management\n",
       "7     6         Social protection and risk management\n",
       "8     7                   Social dev/gender/inclusion\n",
       "9     7                   Social dev/gender/inclusion"
      ]
     },
     "execution_count": 8,
     "metadata": {},
     "output_type": "execute_result"
    }
   ],
   "source": [
    "#extract necessary fields from data list for exercise 3\n",
    "df = json_normalize(data, 'mjtheme_namecode')\n",
    "\n",
    "#replace the blanks name fields with NaN and convert code to int (both make data easier to work with)\n",
    "df['name'].replace('', np.nan, inplace=True)\n",
    "df['code'] = df['code'].astype(int)\n",
    "\n",
    "#take a copy of df for purpose of creating lookup for name (via code)\n",
    "df_name_key = df.copy(deep=True)\n",
    "\n",
    "#drop missing values (these are ultimately the values we will be updating - e.g. filling in blank name)\n",
    "df_name_key.dropna(how='any', inplace=True)\n",
    "\n",
    "#we only want one entry per code/name pair\n",
    "df_name_key.drop_duplicates(inplace=True)\n",
    "\n",
    "#housekeeping\n",
    "df_name_key.sort_values('code',inplace=True)\n",
    "df_name_key.set_index('code', inplace=True)\n",
    "\n",
    "#make final lookup series.  nclass_lookup is a list of names in code order\n",
    "nclass_lookup = df_name_key['name']\n",
    "\n",
    "#get a list of all the records with null name (these are the records we will be updating)\n",
    "nulls = df.loc[df.name.isnull(), 'code']\n",
    "\n",
    "#update df based on nclass_lookup\n",
    "df.loc[df.name.isnull(), 'name'] = nclass_lookup.loc[nulls].values\n",
    "\n",
    "#dataframe with missing values populated\n",
    "df.head(10)"
   ]
  },
  {
   "cell_type": "code",
   "execution_count": 9,
   "metadata": {},
   "outputs": [
    {
     "data": {
      "text/html": [
       "<div>\n",
       "<style scoped>\n",
       "    .dataframe tbody tr th:only-of-type {\n",
       "        vertical-align: middle;\n",
       "    }\n",
       "\n",
       "    .dataframe tbody tr th {\n",
       "        vertical-align: top;\n",
       "    }\n",
       "\n",
       "    .dataframe thead th {\n",
       "        text-align: right;\n",
       "    }\n",
       "</style>\n",
       "<table border=\"1\" class=\"dataframe\">\n",
       "  <thead>\n",
       "    <tr style=\"text-align: right;\">\n",
       "      <th></th>\n",
       "      <th>Count of Project Theme</th>\n",
       "    </tr>\n",
       "    <tr>\n",
       "      <th>name</th>\n",
       "      <th></th>\n",
       "    </tr>\n",
       "  </thead>\n",
       "  <tbody>\n",
       "    <tr>\n",
       "      <th>Environment and natural resources management</th>\n",
       "      <td>250</td>\n",
       "    </tr>\n",
       "    <tr>\n",
       "      <th>Rural development</th>\n",
       "      <td>216</td>\n",
       "    </tr>\n",
       "    <tr>\n",
       "      <th>Human development</th>\n",
       "      <td>210</td>\n",
       "    </tr>\n",
       "    <tr>\n",
       "      <th>Public sector governance</th>\n",
       "      <td>199</td>\n",
       "    </tr>\n",
       "    <tr>\n",
       "      <th>Social protection and risk management</th>\n",
       "      <td>168</td>\n",
       "    </tr>\n",
       "    <tr>\n",
       "      <th>Financial and private sector development</th>\n",
       "      <td>146</td>\n",
       "    </tr>\n",
       "    <tr>\n",
       "      <th>Social dev/gender/inclusion</th>\n",
       "      <td>130</td>\n",
       "    </tr>\n",
       "    <tr>\n",
       "      <th>Trade and integration</th>\n",
       "      <td>77</td>\n",
       "    </tr>\n",
       "    <tr>\n",
       "      <th>Urban development</th>\n",
       "      <td>50</td>\n",
       "    </tr>\n",
       "    <tr>\n",
       "      <th>Economic management</th>\n",
       "      <td>38</td>\n",
       "    </tr>\n",
       "  </tbody>\n",
       "</table>\n",
       "</div>"
      ],
      "text/plain": [
       "                                              Count of Project Theme\n",
       "name                                                                \n",
       "Environment and natural resources management                     250\n",
       "Rural development                                                216\n",
       "Human development                                                210\n",
       "Public sector governance                                         199\n",
       "Social protection and risk management                            168\n",
       "Financial and private sector development                         146\n",
       "Social dev/gender/inclusion                                      130\n",
       "Trade and integration                                             77\n",
       "Urban development                                                 50\n",
       "Economic management                                               38"
      ]
     },
     "execution_count": 9,
     "metadata": {},
     "output_type": "execute_result"
    }
   ],
   "source": [
    "#group by code, name and get size (count)\n",
    "df = df.groupby(['code', 'name']).size().sort_values(ascending=False).head(10).to_frame()\n",
    "\n",
    "#rename columns to make presentation easier\n",
    "df.rename(columns={df.columns[0]:'Count of Project Theme'}, inplace=True)\n",
    "\n",
    "#housekeeping\n",
    "df.reset_index(inplace=True)\n",
    "df.set_index('name', inplace=True)\n",
    "del df['code']\n",
    "\n",
    "#dataframe with missing values populated and summarized\n",
    "df.head(10)"
   ]
  },
  {
   "cell_type": "code",
   "execution_count": 10,
   "metadata": {},
   "outputs": [
    {
     "data": {
      "text/plain": [
       "Text(0.5, 1.0, 'Total Projects by Theme')"
      ]
     },
     "execution_count": 10,
     "metadata": {},
     "output_type": "execute_result"
    },
    {
     "data": {
      "image/png": "[encoded data removed]",
      "text/plain": [
       "<Figure size 432x288 with 1 Axes>"
      ]
     },
     "metadata": {
      "needs_background": "light"
     },
     "output_type": "display_data"
    }
   ],
   "source": [
    "#graphed results (same as #2 but data now represents previous missing data as well)\n",
    "ax = df.plot(kind='barh', legend=False)\n",
    "ax.set_xlabel('Total Projects')\n",
    "ax.set_ylabel('Project Theme')\n",
    "ax.set_title('Total Projects by Theme')"
   ]
  }
 ],
 "metadata": {
  "kernelspec": {
   "display_name": "Python 3",
   "language": "python",
   "name": "python3"
  },
  "language_info": {
   "codemirror_mode": {
    "name": "ipython",
    "version": 3
   },
   "file_extension": ".py",
   "mimetype": "text/x-python",
   "name": "python",
   "nbconvert_exporter": "python",
   "pygments_lexer": "ipython3",
   "version": "3.7.3"
  }
 },
 "nbformat": 4,
 "nbformat_minor": 1
}
