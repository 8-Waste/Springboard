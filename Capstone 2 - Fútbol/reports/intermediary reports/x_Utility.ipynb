{
 "cells": [
  {
   "cell_type": "code",
   "execution_count": 2,
   "metadata": {},
   "outputs": [],
   "source": [
    "from pathlib import Path"
   ]
  },
  {
   "cell_type": "code",
   "execution_count": 35,
   "metadata": {},
   "outputs": [],
   "source": [
    "\n",
    "p = Path('../../data/01_source_photos/2019-11-16).glob('*')\n",
    "\n",
    "\n",
    "file_ext = 0\n",
    "for i, f in enumerate(p):\n",
    "    file_ext += 1\n",
    "    f.rename(Path(f.parent, f\"Elijah_Widdows_{str(file_ext).zfill(4)}{f.suffix}\"))\n",
    "        "
   ]
  },
  {
   "cell_type": "code",
   "execution_count": 10,
   "metadata": {},
   "outputs": [],
   "source": [
    "date_t = '2019-11-09'\n",
    "date_f = 'd191109_'\n",
    "p = Path(Path('../../data/01_source_photos/') / date_t).glob('*')\n",
    "\n",
    "file_ext = 0\n",
    "for i, f in enumerate(p):\n",
    "    file_ext += 1\n",
    "    f.rename(Path(f.parent, f\"{date_f}_{str(file_ext).zfill(4)}{f.suffix}\"))\n",
    "        "
   ]
  },
  {
   "cell_type": "code",
   "execution_count": 3,
   "metadata": {},
   "outputs": [
    {
     "name": "stdout",
     "output_type": "stream",
     "text": [
      "*** ..\\..\\data\\02_target_faces\\11_Elijah_Widdows\n",
      "11_Elijah_Widdows\n"
     ]
    }
   ],
   "source": [
    "p = Path('../../data/02_target_faces').glob('*')\n",
    "dir_names = [d for d in p if d.is_dir()]\n",
    "for dir_name in dir_names:\n",
    "    print('***', dir_name)\n",
    "    player_name=  str(dir_name.name)\n",
    "    print(player_name)\n",
    "    p2 = Path(dir_name).glob('*')\n",
    "#     print(list(p2))\n",
    "    file_ext = 0\n",
    "    for i, f in enumerate(p2):\n",
    "        file_ext += 1\n",
    "        f.rename(Path(f.parent, f\"{player_name}_{str(file_ext).zfill(4)}{f.suffix}\"))\n",
    "# print(x)\n",
    "# print(list(p))\n",
    "\n",
    "\n"
   ]
  },
  {
   "cell_type": "code",
   "execution_count": null,
   "metadata": {},
   "outputs": [],
   "source": []
  }
 ],
 "metadata": {
  "kernelspec": {
   "display_name": "Python 3",
   "language": "python",
   "name": "python3"
  },
  "language_info": {
   "codemirror_mode": {
    "name": "ipython",
    "version": 3
   },
   "file_extension": ".py",
   "mimetype": "text/x-python",
   "name": "python",
   "nbconvert_exporter": "python",
   "pygments_lexer": "ipython3",
   "version": "3.6.10"
  }
 },
 "nbformat": 4,
 "nbformat_minor": 4
}
