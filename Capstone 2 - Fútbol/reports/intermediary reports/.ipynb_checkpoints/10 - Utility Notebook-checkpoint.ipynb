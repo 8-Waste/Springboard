{
 "cells": [
  {
   "cell_type": "code",
   "execution_count": null,
   "metadata": {},
   "outputs": [],
   "source": []
  },
  {
   "cell_type": "code",
   "execution_count": null,
   "metadata": {},
   "outputs": [],
   "source": [
    "# common variables used throughout the notebook\n",
    "random.seed(14)\n",
    "\n",
    "source_path = Path('../../data/01_source_photos/')          # source images (and source pickles)\n",
    "converted_path = Path('../../data/02_converted_photos/')    # converted images from source (tiff files)\n",
    "\n",
    "faces_harr_path = Path('../../data/04_faces/04_faces_harr/')         # harr-cascade faces\n",
    "faces_mtcnn_path = Path('../../data/04_faces/04_faces_mtcnn/')       # mtcnn faces"
   ]
  },
  {
   "cell_type": "code",
   "execution_count": null,
   "metadata": {},
   "outputs": [],
   "source": []
  },
  {
   "cell_type": "code",
   "execution_count": null,
   "metadata": {},
   "outputs": [],
   "source": []
  },
  {
   "cell_type": "code",
   "execution_count": null,
   "metadata": {},
   "outputs": [],
   "source": []
  }
 ],
 "metadata": {
  "kernelspec": {
   "display_name": "Python 3",
   "language": "python",
   "name": "python3"
  },
  "language_info": {
   "codemirror_mode": {
    "name": "ipython",
    "version": 3
   },
   "file_extension": ".py",
   "mimetype": "text/x-python",
   "name": "python",
   "nbconvert_exporter": "python",
   "pygments_lexer": "ipython3",
   "version": "3.6.10"
  }
 },
 "nbformat": 4,
 "nbformat_minor": 4
}
