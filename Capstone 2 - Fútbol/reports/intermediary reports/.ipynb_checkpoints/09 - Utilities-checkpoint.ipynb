{
 "cells": [
  {
   "cell_type": "code",
   "execution_count": null,
   "metadata": {},
   "outputs": [],
   "source": [
    "09"
   ]
  },
  {
   "cell_type": "code",
   "execution_count": null,
   "metadata": {},
   "outputs": [],
   "source": []
  },
  {
   "cell_type": "code",
   "execution_count": null,
   "metadata": {},
   "outputs": [],
   "source": []
  },
  {
   "cell_type": "code",
   "execution_count": null,
   "metadata": {},
   "outputs": [],
   "source": [
    "#     def draw_face(image, box, left_eye, right_eye, nose, mouth_left, mouth_right):\n",
    "# #         image = image[box[1]:box[1] + box[3], box[0]:box[0] + box[2]]\n",
    "#         center_of_forehead = (int((right_eye[0] + left_eye[0]) / 2), int((right_eye[1] + left_eye[1]) / 2))\n",
    "#         cv2.rectangle(image, (box[0],box[1]),(box[0]+box[2],box[1]+box[3]), color=(255,255,0), thickness=2)\n",
    "#         cv2.circle(image, left_eye, 5, (255,0,0), 2)\n",
    "#         cv2.circle(image, right_eye, 5, (255,0,0), 2)\n",
    "#         cv2.circle(image, nose, 5, (255,0,0), 2)\n",
    "#         cv2.circle(image, mouth_left, 5, (255,0,0), 2)\n",
    "#         cv2.circle(image, mouth_right, 5, (255,0,0), 2)\n",
    "#         cv2.circle(image, center_of_forehead, 5, (0,0,255), 2)\n",
    "#         image = rotation_detection_opencv(image, box, left_eye, right_eye, nose, center_of_forehead)\n",
    "#         return image"
   ]
  },
  {
   "cell_type": "code",
   "execution_count": null,
   "metadata": {},
   "outputs": [],
   "source": [
    "# pickle_files = list(Path('../../data/02_target_faces/').rglob('*.pkl'))\n",
    "# for c, file in enumerate(pickle_files):\n",
    "#     with open(file, 'rb') as f:\n",
    "#         fd = pickle.load(f)\n",
    "#     image = cv2.imread(str(file.with_suffix('.jpg')))\n",
    "#     top, bottom, left, right = (100,100,100,100)\n",
    "#     image = cv2.copyMakeBorder(image, top, bottom, left, right, cv2.BORDER_CONSTANT)\n",
    "#     center_of_forehead = (int((fd['right_eye'][0] + fd['left_eye'][0]) / 2), int((fd['right_eye'][1] + fd['left_eye'][1]) / 2))\n",
    "#     cv2.circle(image, center_of_forehead, 5, (0,0,255), 2)\n",
    "#     cv2.circle(image, fd['right_eye'], 5, (255,0,0), 2)\n",
    "#     cv2.circle(image, fd['left_eye'], 5, (255,0,0), 2)\n",
    "#     cv2.circle(image, fd['nose'], 5, (255,0,0), 2)\n",
    "#     cv2.circle(image, fd['mouth_left'], 5, (255,0,0), 2)\n",
    "#     cv2.circle(image, fd['mouth_right'], 5, (255,0,0), 2)\n",
    "#     image = imutils.resize(image, width=600)\n",
    "#     cv2.imshow(fd['name'], image)\n",
    "#     cv2.waitKey(0)\n",
    "#     cv2.destroyAllWindows()"
   ]
  },
  {
   "cell_type": "code",
   "execution_count": null,
   "metadata": {},
   "outputs": [],
   "source": [
    "# # f = '../../data/01_source_photos/2018-11-10/mtcnn_faces/mtcnn_pickles/TAW_0594_faceno_0000.pkl'\n",
    "# f = '../../data/01_source_photos/2018-11-10/mtcnn_faces/mtcnn_pickles/TAW_0475_faceno_0000.pkl'\n",
    "# with open(f, 'rb') as handle:\n",
    "#     x = pickle.load(handle)\n",
    "# y = x['vec']"
   ]
  }
 ],
 "metadata": {
  "kernelspec": {
   "display_name": "Python 3",
   "language": "python",
   "name": "python3"
  },
  "language_info": {
   "codemirror_mode": {
    "name": "ipython",
    "version": 3
   },
   "file_extension": ".py",
   "mimetype": "text/x-python",
   "name": "python",
   "nbconvert_exporter": "python",
   "pygments_lexer": "ipython3",
   "version": "3.6.10"
  }
 },
 "nbformat": 4,
 "nbformat_minor": 4
}
