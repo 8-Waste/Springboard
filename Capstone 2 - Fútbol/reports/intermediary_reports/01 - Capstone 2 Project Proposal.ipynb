{
 "cells": [
  {
   "cell_type": "markdown",
   "metadata": {},
   "source": [
    "Fútbol Match Highlights<br>\n",
    "Capstone 2 – Project Proposal<br>\n",
    "Tom Widdows"
   ]
  },
  {
   "cell_type": "markdown",
   "metadata": {},
   "source": [
    "**Introduction**<br>\n",
    "The objective of this entire project is to quickly and inexpensively create a quality highlight video of a high school soccer player."
   ]
  },
  {
   "cell_type": "markdown",
   "metadata": {},
   "source": [
    "**Problem**<br>\n",
    "College coaches require soccer players to submit highlight video and game film to be considered for an athletic scholarship.  The issues facing the student-athlete are:\n",
    " - Recording and processing video is time-consuming\n",
    " - The athlete is playing so they must rely on others to take the video\n",
    " - People would rather watch the game instead of being a videographer\n",
    " - Processing the video is time consuming\n",
    " - The required hardware and software are expensive. \n",
    "\n",
    "My Capstone 2 project will focus on identifying a targeted player using facial recognition.  I will initially focus on identifying the target player in photos and transition to video and including teammates time allowing."
   ]
  },
  {
   "cell_type": "markdown",
   "metadata": {},
   "source": [
    "**Data**<br>\n",
    "Client:<br>\n",
    "Athletes that require highlight and game videos for college scholarships<br>\n",
    "<br>\n",
    "Source:<br>\n",
    "My own image database\n",
    " - targeted players \n",
    " - teammates\n",
    " - high school fútbol match"
   ]
  },
  {
   "cell_type": "markdown",
   "metadata": {},
   "source": [
    "**Envisioned Approach**<br>\n",
    " - Create two stationary videos each covering one quarter of the pitch\n",
    " - Stitch the footage together creating a single wide video.\n",
    " - Locate faces in the video frame.\n",
    " - Identify the target player and teammates"
   ]
  },
  {
   "cell_type": "markdown",
   "metadata": {},
   "source": [
    "**Deliverables**<br>\n",
    " - All Python code I will develop\n",
    " - A written final report\n",
    " - A presentation slide deck"
   ]
  }
 ],
 "metadata": {
  "kernelspec": {
   "display_name": "Python 3",
   "language": "python",
   "name": "python3"
  },
  "language_info": {
   "codemirror_mode": {
    "name": "ipython",
    "version": 3
   },
   "file_extension": ".py",
   "mimetype": "text/x-python",
   "name": "python",
   "nbconvert_exporter": "python",
   "pygments_lexer": "ipython3",
   "version": "3.6.9"
  },
  "toc": {
   "base_numbering": 1,
   "nav_menu": {},
   "number_sections": false,
   "sideBar": false,
   "skip_h1_title": false,
   "title_cell": "Table of Contents",
   "title_sidebar": "Contents",
   "toc_cell": false,
   "toc_position": {},
   "toc_section_display": false,
   "toc_window_display": false
  }
 },
 "nbformat": 4,
 "nbformat_minor": 2
}
